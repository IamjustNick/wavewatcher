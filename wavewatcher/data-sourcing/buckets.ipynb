{
 "cells": [
  {
   "cell_type": "code",
   "execution_count": 1,
   "metadata": {},
   "outputs": [],
   "source": [
    "from google.cloud import storage\n",
    "import os"
   ]
  },
  {
   "cell_type": "code",
   "execution_count": 2,
   "metadata": {},
   "outputs": [],
   "source": [
    "def create_bucket(bucket_name: str):\n",
    "    \"\"\"Create a GCS Bucket\"\"\"\n",
    "    client = storage.Client()\n",
    "    bucket = client.bucket(bucket_name)\n",
    "    bucket.storage_class = \"COLDLINE\"\n",
    "    new_bucket = client.create_bucket(bucket, location=\"eu\")\n",
    "    print(f\"New bucket {bucket_name} has been succesfully created!\")\n",
    "    return new_bucket"
   ]
  },
  {
   "cell_type": "code",
   "execution_count": 3,
   "metadata": {},
   "outputs": [],
   "source": [
    "def upload_file(bucket, filename: str, destination: str):\n",
    "    \"\"\"Upload a file to GCS Bucket\"\"\"\n",
    "    blob = bucket.blob(destination)\n",
    "    blob.upload_from_filename(filename)\n",
    "    print(f\"Uploaded {filename}!\")"
   ]
  },
  {
   "cell_type": "code",
   "execution_count": 4,
   "metadata": {},
   "outputs": [],
   "source": [
    "def upload_zipped_files(dir_name : str , bucket_name : str):\n",
    "    #create a client\n",
    "    client = storage.Client()\n",
    "\n",
    "    #fetch bucket we want to store our data on\n",
    "    bucket = storage.Bucket(client , bucket_name)\n",
    "\n",
    "    #use our previous function\n",
    "    for zipped_file in os.listdir(dir_name):\n",
    "        upload_file(bucket,\n",
    "                    filename=os.path.join(dir_name, zipped_file),\n",
    "                    destination=os.path.join(dir_name, zipped_file)\n",
    "                    )\n",
    "        print(f\"Zipped directory {zipped_file} uploaded!\")\n",
    "    return True"
   ]
  },
  {
   "cell_type": "code",
   "execution_count": 5,
   "metadata": {},
   "outputs": [
    {
     "name": "stdout",
     "output_type": "stream",
     "text": [
      "Uploaded zipped_waves/Chaotic.zip!\n",
      "Zipped directory Chaotic.zip uploaded!\n",
      "Uploaded zipped_waves/Flat.zip!\n",
      "Zipped directory Flat.zip uploaded!\n",
      "Uploaded zipped_waves/Good.zip!\n",
      "Zipped directory Good.zip uploaded!\n"
     ]
    },
    {
     "data": {
      "text/plain": [
       "True"
      ]
     },
     "execution_count": 5,
     "metadata": {},
     "output_type": "execute_result"
    }
   ],
   "source": [
    "upload_zipped_files(\"zipped_waves\", \"waves_surfer_data\")"
   ]
  },
  {
   "cell_type": "code",
   "execution_count": null,
   "metadata": {},
   "outputs": [],
   "source": []
  }
 ],
 "metadata": {
  "kernelspec": {
   "display_name": "Python 3.10.6 64-bit ('wavewatcher')",
   "language": "python",
   "name": "python3"
  },
  "language_info": {
   "codemirror_mode": {
    "name": "ipython",
    "version": 3
   },
   "file_extension": ".py",
   "mimetype": "text/x-python",
   "name": "python",
   "nbconvert_exporter": "python",
   "pygments_lexer": "ipython3",
   "version": "3.10.6"
  },
  "orig_nbformat": 4,
  "vscode": {
   "interpreter": {
    "hash": "939b3d73e37548e6d99cf4126d755001bf5241886bd4e8de23291a3246d9befb"
   }
  }
 },
 "nbformat": 4,
 "nbformat_minor": 2
}
