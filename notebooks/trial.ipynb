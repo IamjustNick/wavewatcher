{
 "cells": [
  {
   "cell_type": "markdown",
   "id": "5bb9e988-9490-4ef3-a973-0d8d32f8a38f",
   "metadata": {},
   "source": [
    "## Imports"
   ]
  },
  {
   "cell_type": "code",
   "execution_count": 1,
   "id": "ae1c6a44-ca78-4a5a-8fd6-1b708115e506",
   "metadata": {},
   "outputs": [],
   "source": [
    "from google.cloud import storage\n",
    "import os"
   ]
  },
  {
   "cell_type": "markdown",
   "id": "2c4b6996-a405-4cdf-8852-33ad7ba1d042",
   "metadata": {},
   "source": [
    "## Create Bucket\n"
   ]
  },
  {
   "cell_type": "code",
   "execution_count": null,
   "id": "33e7f393-a981-4abf-a126-488b116dcb1b",
   "metadata": {},
   "outputs": [],
   "source": [
    "def create_bucket(bucket_name: str):\n",
    "    \"\"\"Create a GCS Bucket\"\"\"\n",
    "    client = storage.Client()\n",
    "    bucket = client.bucket(bucket_name)\n",
    "    bucket.storage_class = \"COLDLINE\"\n",
    "    new_bucket = client.create_bucket(bucket, location=\"eu\")\n",
    "    print(f\"New bucket {bucket_name} has been succesfully created!\")\n",
    "    return new_bucket"
   ]
  },
  {
   "cell_type": "markdown",
   "id": "b782f888-4ff8-4923-b94e-5003e9d6b490",
   "metadata": {},
   "source": [
    "## Upload File to Bucket from your Local Directory"
   ]
  },
  {
   "cell_type": "code",
   "execution_count": null,
   "id": "8023cc76-78d1-4083-86d1-a17b02824a0c",
   "metadata": {},
   "outputs": [],
   "source": [
    "def upload_file(bucket, filename: str, destination: str):\n",
    "    \"\"\"Upload a file to GCS Bucket\"\"\"\n",
    "    blob = bucket.blob(destination)\n",
    "    blob.upload_from_filename(filename)\n",
    "    print(f\"Uploaded {filename}!\")"
   ]
  },
  {
   "cell_type": "markdown",
   "id": "51590727-ea97-40e2-a5d8-09b07f25be63",
   "metadata": {},
   "source": [
    "## Compress to ZIP file\n"
   ]
  },
  {
   "cell_type": "code",
   "execution_count": 2,
   "id": "347e09f9-cade-4f65-a132-e0881b902746",
   "metadata": {},
   "outputs": [],
   "source": [
    "# !zip -r Chaotic.zip waves/Chaotic\n",
    "# !unzip -d . Chaotic.zip"
   ]
  },
  {
   "cell_type": "code",
   "execution_count": 3,
   "id": "c4482482-cc27-4ed7-b850-5cab6c07b5c7",
   "metadata": {},
   "outputs": [
    {
     "name": "stdout",
     "output_type": "stream",
     "text": [
      "Mateo.ipynb\t     Preprocessing_miguel.ipynb  trial.ipynb\t zipped_waves\n",
      "preprocessing.ipynb  preprocessing_test.ipynb\t Untitled.ipynb\n"
     ]
    }
   ],
   "source": [
    "!mkdir zipped_waves\n",
    "!ls"
   ]
  },
  {
   "cell_type": "code",
   "execution_count": null,
   "id": "9adacce6-62d3-4ba8-85e3-96c83556b0cd",
   "metadata": {},
   "outputs": [],
   "source": []
  }
 ],
 "metadata": {
  "kernelspec": {
   "display_name": "Python 3 (ipykernel)",
   "language": "python",
   "name": "python3"
  },
  "language_info": {
   "codemirror_mode": {
    "name": "ipython",
    "version": 3
   },
   "file_extension": ".py",
   "mimetype": "text/x-python",
   "name": "python",
   "nbconvert_exporter": "python",
   "pygments_lexer": "ipython3",
   "version": "3.10.6"
  }
 },
 "nbformat": 4,
 "nbformat_minor": 5
}
