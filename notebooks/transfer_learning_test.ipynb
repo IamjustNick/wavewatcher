{
  "cells": [
    {
      "cell_type": "markdown",
      "metadata": {
        "id": "moTaBBdfPMSD"
      },
      "source": [
        "First we will load a 100 images to test the preprocessing speed"
      ]
    },
    {
      "cell_type": "code",
      "execution_count": 2,
      "metadata": {
        "id": "SRO5F3yePMSM"
      },
      "outputs": [],
      "source": [
        "import cv2 as cv\n",
        "import matplotlib.pyplot as plt\n",
        "import skimage\n",
        "import glob \n",
        "import os \n",
        "import random\n",
        "import numpy as np\n",
        "import pandas as pd\n",
        "from PIL import ImageFile\n",
        "from sklearn.model_selection import train_test_split\n",
        "\n",
        "#what is the role of truncated images?\n",
        "ImageFile.LOAD_TRUNCATED_IMAGES = True\n",
        "\n"
      ]
    },
    {
      "cell_type": "code",
      "execution_count": 3,
      "metadata": {
        "id": "aCvf7rsEPMSP"
      },
      "outputs": [],
      "source": [
        "import numpy as np\n",
        "import pandas as pd\n",
        "from tensorflow.keras import layers, Sequential, models\n",
        "from keras.utils import to_categorical\n",
        "from keras.optimizers import Adam\n",
        "from keras.callbacks import EarlyStopping\n",
        "from keras.applications import efficientnet, vgg16"
      ]
    },
    {
      "cell_type": "code",
      "source": [
        "from google.colab import auth\n",
        "auth.authenticate_user()\n"
      ],
      "metadata": {
        "id": "iin1aX7JPxL1"
      },
      "execution_count": 4,
      "outputs": []
    },
    {
      "cell_type": "code",
      "source": [
        "from google.cloud import storage"
      ],
      "metadata": {
        "id": "W0I4I09YP551"
      },
      "execution_count": 5,
      "outputs": []
    },
    {
      "cell_type": "code",
      "source": [
        "def download_blob(bucket_name, parent_blob: str):\n",
        "    \"\"\"Downloads a blob from the bucket.\"\"\"\n",
        "    #create client\n",
        "    storage_client = storage.Client()\n",
        "\n",
        "    #fetch blob\n",
        "    blobs = storage_client.list_blobs(bucket_name)\n",
        "\n",
        "    #make host directory if it doesn't exist\n",
        "    if not os.path.isdir(parent_blob):\n",
        "        os.mkdir(parent_blob)\n",
        "\n",
        "    for blob in blobs:\n",
        "        #where I want it stored!\n",
        "        blob.download_to_filename(blob.name)\n",
        "    return True"
      ],
      "metadata": {
        "id": "Q6KbinhePwwa"
      },
      "execution_count": 6,
      "outputs": []
    },
    {
      "cell_type": "code",
      "source": [
        "import zipfile\n",
        "\n",
        "def extract_to(parent_blob):\n",
        "    ##Unzips all files in our parent blob we just downloaded from GCS\n",
        "    for zipped_file in os.listdir(parent_blob):\n",
        "        print(f\"Unzipping {zipped_file}...\")\n",
        "        with zipfile.ZipFile(os.path.join(parent_blob, zipped_file),\n",
        "                             'r') as zip_ref:\n",
        "            #we do not define an extraction directory since the zipped files already contain\n",
        "            #the directories, since there was a large folder containing\n",
        "            #all subsequent folders with files belonging to each category\n",
        "            zip_ref.extractall()\n",
        "        print(\"Success!\")\n"
      ],
      "metadata": {
        "id": "8EDmUA2xP9Zp"
      },
      "execution_count": 7,
      "outputs": []
    },
    {
      "cell_type": "code",
      "source": [
        "download_blob(\"waves_surfer_data\",\"zipped_waves\")\n",
        "\n",
        "extract_to(\"zipped_waves\")\n"
      ],
      "metadata": {
        "colab": {
          "base_uri": "https://localhost:8080/"
        },
        "id": "SU_tM7AZQAlb",
        "outputId": "51613a4e-b389-409a-b02f-400185892bfc"
      },
      "execution_count": 8,
      "outputs": [
        {
          "output_type": "stream",
          "name": "stdout",
          "text": [
            "Unzipping Chaotic.zip...\n",
            "Success!\n",
            "Unzipping Good.zip...\n",
            "Success!\n",
            "Unzipping Flat.zip...\n",
            "Success!\n"
          ]
        }
      ]
    },
    {
      "cell_type": "markdown",
      "metadata": {
        "id": "iIjFPV2mPMSQ"
      },
      "source": [
        "The preprocessing below works. It has been commented out to replace it with a better one. "
      ]
    },
    {
      "cell_type": "code",
      "execution_count": null,
      "metadata": {
        "id": "daVFzno-PMSR"
      },
      "outputs": [],
      "source": [
        "# def preprocess_image(image):\n",
        "#     resized = cv.resize(image,(300,300),interpolation = cv.INTER_AREA)\n",
        "#     img = cv.medianBlur(resized,5)\n",
        "#     ret,th1 = cv.threshold(img,127,255,cv.THRESH_BINARY)\n",
        "#     th2 = cv.adaptiveThreshold(img,255,cv.ADAPTIVE_THRESH_MEAN_C,\\\n",
        "#             cv.THRESH_BINARY,11,2)\n",
        "#     th3 = cv.adaptiveThreshold(img,255,cv.ADAPTIVE_THRESH_GAUSSIAN_C,\\\n",
        "#             cv.THRESH_BINARY,15,2)\n",
        "#     images = [th1, th2, th3, img]\n",
        "\n",
        "    \n",
        "#     return images\n",
        "    "
      ]
    },
    {
      "cell_type": "code",
      "execution_count": null,
      "metadata": {
        "id": "FyPpCGd0PMSS"
      },
      "outputs": [],
      "source": [
        "\"\"\"def preprocess_image_improved(image,reshape_size):\n",
        "    if image.shape == (570, 1015, 4):\n",
        "        image = cv.cvtColor(image, cv.COLOR_BGRA2BGR)\n",
        "        cropped = image[250:-100,100:]\n",
        "        resized = cv.resize(cropped,(reshape_size,reshape_size),interpolation = cv.INTER_AREA)\n",
        "        gray_img = np.uint8((cv.cvtColor(resized, cv.COLOR_BGR2GRAY))*250)\n",
        "        edges = cv.Canny(gray_img,50,50)\n",
        "        gaussian = cv.adaptiveThreshold(gray_img,255,cv.ADAPTIVE_THRESH_GAUSSIAN_C,\\\n",
        "            cv.THRESH_BINARY,13,3)\n",
        "        (T, thresh1) = cv.threshold(resized, 0.4, 0.6,\n",
        "                            cv.THRESH_BINARY_INV)\n",
        "        (T, thresh) = cv.threshold(resized, 0.6, 0.9, cv.THRESH_BINARY)\n",
        "        images = [edges,gaussian,thresh1.T[0],thresh1.T[1],thresh1.T[2],thresh.T[0],thresh.T[1],thresh.T[2]]\n",
        "        images[0] = images[0]/255\n",
        "        images[1] = images[1]/255\n",
        "        return images\n",
        "    \n",
        "    elif image.shape == (582, 1034, 4):\n",
        "        image = cv.cvtColor(image, cv.COLOR_BGRA2BGR)\n",
        "        cropped = image[60:500,:]\n",
        "        resized = cv.resize(cropped,(reshape_size,reshape_size),interpolation = cv.INTER_AREA)\n",
        "        gray_img = np.uint8((cv.cvtColor(resized, cv.COLOR_BGR2GRAY))*250)\n",
        "        edges = cv.Canny(gray_img,50,50)\n",
        "        gaussian = cv.adaptiveThreshold(gray_img,255,cv.ADAPTIVE_THRESH_GAUSSIAN_C,\\\n",
        "            cv.THRESH_BINARY,13,3)\n",
        "        (T, thresh1) = cv.threshold( resized, 0.4, 0.6,\n",
        "                            cv.THRESH_BINARY_INV)\n",
        "        (T, thresh) = cv.threshold(resized, 0.6, 0.9, cv.THRESH_BINARY)\n",
        "        images = [edges,gaussian,thresh1.T[0],thresh1.T[1],thresh1.T[2],thresh.T[0],thresh.T[1],thresh.T[2]]\n",
        "        images[0] = images[0]/255\n",
        "        images[1] = images[1]/255\n",
        "        return images\n",
        "    \n",
        "    elif image.shape == (624, 1200, 4):\n",
        "        image = cv.cvtColor(image, cv.COLOR_BGRA2BGR)\n",
        "        cropped = image[150:,:]\n",
        "        resized = cv.resize(cropped,(reshape_size,reshape_size),interpolation = cv.INTER_AREA)\n",
        "        gray_img = np.uint8((cv.cvtColor(resized, cv.COLOR_BGR2GRAY))*250)\n",
        "        edges = cv.Canny(gray_img,100,100)\n",
        "        gaussian = cv.adaptiveThreshold(gray_img,255,cv.ADAPTIVE_THRESH_GAUSSIAN_C,\\\n",
        "            cv.THRESH_BINARY,11,3)\n",
        "        (T, thresh1) = cv.threshold( resized, 0.4, 0.6,\n",
        "                            cv.THRESH_BINARY_INV)\n",
        "        (T, thresh) = cv.threshold(resized, 0.6, 0.9, cv.THRESH_BINARY)\n",
        "        images = [edges,gaussian,thresh1.T[0],thresh1.T[1],thresh1.T[2],thresh.T[0],thresh.T[1],thresh.T[2]]\n",
        "        images[0] = images[0]/255\n",
        "        images[1] = images[1]/255\n",
        "        return images\n",
        "    \n",
        "    #EL PORTO IMAGES FOR GOOD ARE FAILING SYSTEMATICALLY\n",
        "    elif image.shape == (624, 1110, 4):\n",
        "        image = cv.cvtColor(image, cv.COLOR_BGRA2BGR)\n",
        "        cropped = image[350:-100,:]\n",
        "        resized = cv.resize(cropped,(reshape_size,reshape_size),interpolation = cv.INTER_AREA)\n",
        "        gray_img = np.uint8((cv.cvtColor(resized, cv.COLOR_BGR2GRAY))*250)\n",
        "        edges = cv.Canny(gray_img,50,250)\n",
        "        gaussian = cv.adaptiveThreshold(gray_img,255,cv.ADAPTIVE_THRESH_GAUSSIAN_C,\\\n",
        "            cv.THRESH_BINARY,9,5)\n",
        "        (T, thresh1) = cv.threshold( resized, 0.4, 0.6,\n",
        "                            cv.THRESH_BINARY_INV)\n",
        "        (T, thresh) = cv.threshold(resized, 0.6, 0.9, cv.THRESH_BINARY)\n",
        "        images = [edges,gaussian,thresh1.T[0],thresh1.T[1],thresh1.T[2],thresh.T[0],thresh.T[1],thresh.T[2]]\n",
        "        images[0] = images[0]/250\n",
        "        images[1] = images[1]/250\n",
        "    \n",
        "        return images\n",
        "    \n",
        "    \n",
        "    #WE HAVE THROWN ALL OF THOSE IN HERE FOR NOW  \n",
        "    else:\n",
        "        image = cv.cvtColor(image, cv.COLOR_BGRA2BGR)\n",
        "        cropped = image[150:,:]\n",
        "        resized = cv.resize(cropped,(reshape_size,reshape_size),interpolation = cv.INTER_AREA)\n",
        "        gray_img = np.uint8((cv.cvtColor(resized, cv.COLOR_BGR2GRAY))*250)\n",
        "        edges = cv.Canny(gray_img,100,100)\n",
        "        gaussian = cv.adaptiveThreshold(gray_img,255,cv.ADAPTIVE_THRESH_GAUSSIAN_C,\\\n",
        "            cv.THRESH_BINARY,11,3)\n",
        "        (T, thresh1) = cv.threshold( resized, 0.4, 0.6,\n",
        "                            cv.THRESH_BINARY_INV)\n",
        "        (T, thresh) = cv.threshold(resized, 0.6, 0.9, cv.THRESH_BINARY)\n",
        "        images = [edges,gaussian,thresh1.T[0],thresh1.T[1],thresh1.T[2],thresh.T[0],thresh.T[1],thresh.T[2]]\n",
        "        images[0] = images[0]/255\n",
        "        images[1] = images[1]/255\n",
        "        \n",
        "        return images\"\"\""
      ]
    },
    {
      "cell_type": "code",
      "execution_count": 9,
      "metadata": {
        "id": "Q-CQ-2OhPMSU"
      },
      "outputs": [],
      "source": [
        "def preprocess_image_improved(image):\n",
        "    if image.shape == (570, 1015):\n",
        "        cropped = image[250:-100,100:]\n",
        "    elif image.shape == (582, 1034):\n",
        "        cropped = image[60:500,:]\n",
        "    elif image.shape == (624, 1200):\n",
        "        cropped = image[150:,:]\n",
        "    elif image.shape == (624, 1110):\n",
        "        cropped = image[350:-100,:]\n",
        "    else:\n",
        "        cropped = image[150:,:]\n",
        "        \n",
        "    img = cv.resize(cropped,(300,300),interpolation = cv.INTER_AREA)\n",
        "    img = cv.medianBlur(img,5)\n",
        "    ret,th1 = cv.threshold(img,127,255,cv.THRESH_BINARY)\n",
        "    th2 = cv.adaptiveThreshold(img,255,cv.ADAPTIVE_THRESH_MEAN_C,\\\n",
        "                cv.THRESH_BINARY,11,2)\n",
        "#     th3 = cv.adaptiveThreshold(img,255,cv.ADAPTIVE_THRESH_GAUSSIAN_C,\\\n",
        "#                 cv.THRESH_BINARY,15,2)\n",
        "    images =[th1,img,th2]\n",
        "    \n",
        "    return images"
      ]
    },
    {
      "cell_type": "code",
      "execution_count": 10,
      "metadata": {
        "colab": {
          "base_uri": "https://localhost:8080/"
        },
        "id": "Ko5yPpUpPMSV",
        "outputId": "61611106-81f7-4586-dd76-010140328195"
      },
      "outputs": [
        {
          "output_type": "stream",
          "name": "stdout",
          "text": [
            "['Good', 'Chaotic', 'Flat']\n",
            "Preprocessing folder Good...\n",
            "Preprocessing folder Chaotic...\n",
            "Preprocessing folder Flat...\n"
          ]
        },
        {
          "output_type": "execute_result",
          "data": {
            "text/plain": [
              "((522, 300, 300, 3), (522,))"
            ]
          },
          "metadata": {},
          "execution_count": 10
        }
      ],
      "source": [
        "X = []\n",
        "y = []\n",
        "idx = 0\n",
        "failed =[]\n",
        "\n",
        "for root , dirs , files in os.walk(\"raw_data\"):\n",
        "    if dirs:\n",
        "        parent = root\n",
        "        folders = dirs\n",
        "        print(folders)\n",
        "\n",
        "    if files:\n",
        "        print(f\"Preprocessing folder {folders[idx]}...\")\n",
        "        failed = [] \n",
        "        for file in np.random.choice(np.array(files),len(files), replace = False):\n",
        "            try:\n",
        "                original_image = cv.imread(os.path.join(parent , folders[idx], file), 0)\n",
        "                \n",
        "                     \n",
        "                processed_image = preprocess_image_improved(original_image)\n",
        "                \n",
        "                if len(processed_image) < 2:\n",
        "                    print(f\"problemita in {os.path.join(parent , folders[idx], file)}\")\n",
        "                else:\n",
        "                    X.append(np.array(processed_image).T)\n",
        "                    y.append(idx)\n",
        "                #The print below was just to check the value for each situation\n",
        "                #print(idx)\n",
        "            \n",
        "            except Exception as e:\n",
        "                 print(\"Detected bad image!\")\n",
        "                 failed.append(os.path.join(parent , folders[idx], file))\n",
        "                 continue\n",
        "        \n",
        "        idx += 1\n",
        "        \n",
        "X = np.array(X)\n",
        "y = np.array(y)\n",
        "X.shape , y.shape"
      ]
    },
    {
      "cell_type": "markdown",
      "metadata": {
        "id": "9RmbUtWpPMSX"
      },
      "source": [
        "The code below is a clue from Nicole about what can we do to fix X shape."
      ]
    },
    {
      "cell_type": "markdown",
      "metadata": {
        "id": "U3XaeCPsPMSY"
      },
      "source": [
        "Let's augment the little data we have. Considering the nature of the data heavy rotations are not advised."
      ]
    },
    {
      "cell_type": "code",
      "execution_count": null,
      "metadata": {
        "id": "wxVKYZoAPMSZ",
        "outputId": "0602c603-c532-40d0-e052-63d7f3b809a2"
      },
      "outputs": [
        {
          "ename": "",
          "evalue": "",
          "output_type": "error",
          "traceback": [
            "\u001b[1;31mnotebook controller is DISPOSED. \n",
            "\u001b[1;31mView Jupyter <a href='command:jupyter.viewOutput'>log</a> for further details."
          ]
        },
        {
          "ename": "",
          "evalue": "",
          "output_type": "error",
          "traceback": [
            "\u001b[1;31mnotebook controller is DISPOSED. \n",
            "\u001b[1;31mView Jupyter <a href='command:jupyter.viewOutput'>log</a> for further details."
          ]
        },
        {
          "ename": "",
          "evalue": "",
          "output_type": "error",
          "traceback": [
            "\u001b[1;31mnotebook controller is DISPOSED. \n",
            "\u001b[1;31mView Jupyter <a href='command:jupyter.viewOutput'>log</a> for further details."
          ]
        }
      ],
      "source": [
        "# from tensorflow.keras.preprocessing.image import ImageDataGenerator\n",
        "\n",
        "# datagen = ImageDataGenerator(\n",
        "#     featurewise_center = False,\n",
        "#     featurewise_std_normalization = False,\n",
        "#     rotation_range = 10,\n",
        "#     width_shift_range = 0.1,\n",
        "#     height_shift_range = 0.1,\n",
        "#     horizontal_flip = True,\n",
        "#     zoom_range = (0.8, 1.2),\n",
        "#     #I added brightness changes, I think they are relevant to our task\n",
        "#     brightness_range =(0.5,1)\n",
        "#     ) "
      ]
    },
    {
      "cell_type": "code",
      "execution_count": null,
      "metadata": {
        "id": "FkXqkcm0PMSa"
      },
      "outputs": [],
      "source": [
        "# INPUT_SHAPE = (4, 250, 250)\n",
        "NUMBER_CLASSES = 3"
      ]
    },
    {
      "cell_type": "code",
      "source": [
        "X.shape"
      ],
      "metadata": {
        "colab": {
          "base_uri": "https://localhost:8080/"
        },
        "id": "V_bWJU1CReYp",
        "outputId": "367cf879-c853-4e9e-e81c-e1f51a4b8bf7"
      },
      "execution_count": 12,
      "outputs": [
        {
          "output_type": "execute_result",
          "data": {
            "text/plain": [
              "(522, 300, 300, 3)"
            ]
          },
          "metadata": {},
          "execution_count": 12
        }
      ]
    },
    {
      "cell_type": "code",
      "execution_count": 11,
      "metadata": {
        "id": "TeMt8nwvPMSa"
      },
      "outputs": [],
      "source": [
        "y_cat = to_categorical(y)"
      ]
    },
    {
      "cell_type": "code",
      "execution_count": 12,
      "metadata": {
        "id": "4fHinSa4PMSb"
      },
      "outputs": [],
      "source": [
        "X_train, X_test, y_train, y_test = train_test_split(X, y_cat, test_size=0.20)"
      ]
    },
    {
      "cell_type": "code",
      "source": [],
      "metadata": {
        "id": "JOkAMhe8Ri5_"
      },
      "execution_count": null,
      "outputs": []
    },
    {
      "cell_type": "markdown",
      "source": [
        "This is the moment when we try Transfer Learning!"
      ],
      "metadata": {
        "id": "Zre7_JPcRjZp"
      }
    },
    {
      "cell_type": "code",
      "source": [
        "def compile_model(model, learning_rate=1e-4):\n",
        "    model.compile(loss = \"categorical_crossentropy\",\n",
        "                            optimizer = Adam(learning_rate=learning_rate),\n",
        "                            metrics = [\"accuracy\"])\n",
        "    return model"
      ],
      "metadata": {
        "id": "LQbfI62XRimS"
      },
      "execution_count": 13,
      "outputs": []
    },
    {
      "cell_type": "code",
      "source": [
        "def initialize_vgg():\n",
        "    n_classes = 3\n",
        "    model = models.Sequential()\n",
        "    model.add(vgg16.VGG16(weights=\"imagenet\",\n",
        "                    include_top=False,\n",
        "                    input_shape= (300, 300, 3),\n",
        "                    classes = n_classes))\n",
        "    model.add(layers.GlobalAveragePooling2D())\n",
        "    model.add(layers.Flatten())\n",
        "    model.add(layers.BatchNormalization())\n",
        "    model.add(layers.Dense(128, activation = \"relu\"))\n",
        "    \n",
        "    model.add(layers.BatchNormalization())\n",
        "    model.add(layers.Dense(256, activation = \"relu\"))\n",
        "    model.add(layers.BatchNormalization())\n",
        "    model.add(layers.Dense(256, activation = \"relu\"))\n",
        "    model.add(layers.BatchNormalization())\n",
        "    \n",
        "    model.add(layers.Dense(n_classes, activation = \"softmax\"))\n",
        "    model.layers[0].trainable = False\n",
        "    return model"
      ],
      "metadata": {
        "id": "3-a-WZoJRiCg"
      },
      "execution_count": 28,
      "outputs": []
    },
    {
      "cell_type": "code",
      "source": [
        "model = initialize_vgg()\n",
        "model.summary()"
      ],
      "metadata": {
        "colab": {
          "base_uri": "https://localhost:8080/"
        },
        "id": "6S-uFJqnSLxc",
        "outputId": "6c2322a9-60f5-40fb-b69d-4b5fd31c5b19"
      },
      "execution_count": 29,
      "outputs": [
        {
          "output_type": "stream",
          "name": "stdout",
          "text": [
            "Model: \"sequential_3\"\n",
            "_________________________________________________________________\n",
            " Layer (type)                Output Shape              Param #   \n",
            "=================================================================\n",
            " vgg16 (Functional)          (None, 9, 9, 512)         14714688  \n",
            "                                                                 \n",
            " global_average_pooling2d_3   (None, 512)              0         \n",
            " (GlobalAveragePooling2D)                                        \n",
            "                                                                 \n",
            " flatten_3 (Flatten)         (None, 512)               0         \n",
            "                                                                 \n",
            " batch_normalization_5 (Batc  (None, 512)              2048      \n",
            " hNormalization)                                                 \n",
            "                                                                 \n",
            " dense_7 (Dense)             (None, 128)               65664     \n",
            "                                                                 \n",
            " batch_normalization_6 (Batc  (None, 128)              512       \n",
            " hNormalization)                                                 \n",
            "                                                                 \n",
            " dense_8 (Dense)             (None, 256)               33024     \n",
            "                                                                 \n",
            " batch_normalization_7 (Batc  (None, 256)              1024      \n",
            " hNormalization)                                                 \n",
            "                                                                 \n",
            " dense_9 (Dense)             (None, 256)               65792     \n",
            "                                                                 \n",
            " batch_normalization_8 (Batc  (None, 256)              1024      \n",
            " hNormalization)                                                 \n",
            "                                                                 \n",
            " dense_10 (Dense)            (None, 3)                 771       \n",
            "                                                                 \n",
            "=================================================================\n",
            "Total params: 14,884,547\n",
            "Trainable params: 167,555\n",
            "Non-trainable params: 14,716,992\n",
            "_________________________________________________________________\n"
          ]
        }
      ]
    },
    {
      "cell_type": "code",
      "source": [
        "model = compile_model(model)"
      ],
      "metadata": {
        "id": "W9jhjqKESbHi"
      },
      "execution_count": 30,
      "outputs": []
    },
    {
      "cell_type": "code",
      "source": [
        "es = EarlyStopping(monitor = 'val_accuracy', \n",
        "                   mode = 'max', \n",
        "                   patience = 5, \n",
        "                   verbose = 1, \n",
        "                   restore_best_weights = True)\n",
        "\n",
        "history = model.fit(X_train, y_train,\n",
        "                             validation_split = 0.2,\n",
        "                             batch_size = 64, \n",
        "                             epochs = 60, \n",
        "                             callbacks=[es])"
      ],
      "metadata": {
        "colab": {
          "base_uri": "https://localhost:8080/"
        },
        "id": "3RACvAAlR9D0",
        "outputId": "c1de60f4-01db-4b49-d573-4f5dd86f97a5"
      },
      "execution_count": 31,
      "outputs": [
        {
          "output_type": "stream",
          "name": "stdout",
          "text": [
            "Epoch 1/60\n",
            "6/6 [==============================] - 6s 760ms/step - loss: 1.6794 - accuracy: 0.3033 - val_loss: 1.6092 - val_accuracy: 0.4286\n",
            "Epoch 2/60\n",
            "6/6 [==============================] - 4s 704ms/step - loss: 1.3428 - accuracy: 0.3994 - val_loss: 1.4318 - val_accuracy: 0.4643\n",
            "Epoch 3/60\n",
            "6/6 [==============================] - 4s 709ms/step - loss: 1.1059 - accuracy: 0.5255 - val_loss: 1.3210 - val_accuracy: 0.4762\n",
            "Epoch 4/60\n",
            "6/6 [==============================] - 4s 709ms/step - loss: 0.9421 - accuracy: 0.5916 - val_loss: 1.2482 - val_accuracy: 0.4524\n",
            "Epoch 5/60\n",
            "6/6 [==============================] - 4s 716ms/step - loss: 0.8477 - accuracy: 0.6246 - val_loss: 1.1935 - val_accuracy: 0.4643\n",
            "Epoch 6/60\n",
            "6/6 [==============================] - 4s 728ms/step - loss: 0.7713 - accuracy: 0.6907 - val_loss: 1.1479 - val_accuracy: 0.4643\n",
            "Epoch 7/60\n",
            "6/6 [==============================] - 4s 753ms/step - loss: 0.6806 - accuracy: 0.7117 - val_loss: 1.1109 - val_accuracy: 0.4881\n",
            "Epoch 8/60\n",
            "6/6 [==============================] - 4s 756ms/step - loss: 0.6325 - accuracy: 0.7447 - val_loss: 1.0871 - val_accuracy: 0.4881\n",
            "Epoch 9/60\n",
            "6/6 [==============================] - 4s 752ms/step - loss: 0.5485 - accuracy: 0.7778 - val_loss: 1.0696 - val_accuracy: 0.4762\n",
            "Epoch 10/60\n",
            "6/6 [==============================] - 4s 755ms/step - loss: 0.5045 - accuracy: 0.7988 - val_loss: 1.0526 - val_accuracy: 0.5000\n",
            "Epoch 11/60\n",
            "6/6 [==============================] - 4s 744ms/step - loss: 0.4951 - accuracy: 0.7988 - val_loss: 1.0382 - val_accuracy: 0.5119\n",
            "Epoch 12/60\n",
            "6/6 [==============================] - 4s 739ms/step - loss: 0.4545 - accuracy: 0.8228 - val_loss: 1.0253 - val_accuracy: 0.5238\n",
            "Epoch 13/60\n",
            "6/6 [==============================] - 4s 722ms/step - loss: 0.4240 - accuracy: 0.8438 - val_loss: 1.0142 - val_accuracy: 0.5238\n",
            "Epoch 14/60\n",
            "6/6 [==============================] - 4s 724ms/step - loss: 0.3964 - accuracy: 0.8619 - val_loss: 1.0029 - val_accuracy: 0.5357\n",
            "Epoch 15/60\n",
            "6/6 [==============================] - 4s 712ms/step - loss: 0.3391 - accuracy: 0.9039 - val_loss: 0.9940 - val_accuracy: 0.5357\n",
            "Epoch 16/60\n",
            "6/6 [==============================] - 4s 704ms/step - loss: 0.3130 - accuracy: 0.9369 - val_loss: 0.9858 - val_accuracy: 0.5357\n",
            "Epoch 17/60\n",
            "6/6 [==============================] - 4s 702ms/step - loss: 0.2981 - accuracy: 0.9219 - val_loss: 0.9752 - val_accuracy: 0.5357\n",
            "Epoch 18/60\n",
            "6/6 [==============================] - 4s 709ms/step - loss: 0.2839 - accuracy: 0.9369 - val_loss: 0.9662 - val_accuracy: 0.5595\n",
            "Epoch 19/60\n",
            "6/6 [==============================] - 4s 715ms/step - loss: 0.2722 - accuracy: 0.9399 - val_loss: 0.9592 - val_accuracy: 0.5714\n",
            "Epoch 20/60\n",
            "6/6 [==============================] - 4s 706ms/step - loss: 0.2623 - accuracy: 0.9429 - val_loss: 0.9530 - val_accuracy: 0.5595\n",
            "Epoch 21/60\n",
            "6/6 [==============================] - 4s 714ms/step - loss: 0.2775 - accuracy: 0.9279 - val_loss: 0.9491 - val_accuracy: 0.5833\n",
            "Epoch 22/60\n",
            "6/6 [==============================] - 4s 711ms/step - loss: 0.2498 - accuracy: 0.9580 - val_loss: 0.9428 - val_accuracy: 0.5833\n",
            "Epoch 23/60\n",
            "6/6 [==============================] - 4s 709ms/step - loss: 0.2157 - accuracy: 0.9700 - val_loss: 0.9341 - val_accuracy: 0.5833\n",
            "Epoch 24/60\n",
            "6/6 [==============================] - 4s 719ms/step - loss: 0.2145 - accuracy: 0.9670 - val_loss: 0.9254 - val_accuracy: 0.5952\n",
            "Epoch 25/60\n",
            "6/6 [==============================] - 4s 718ms/step - loss: 0.2044 - accuracy: 0.9700 - val_loss: 0.9158 - val_accuracy: 0.5952\n",
            "Epoch 26/60\n",
            "6/6 [==============================] - 4s 725ms/step - loss: 0.1841 - accuracy: 0.9880 - val_loss: 0.9137 - val_accuracy: 0.6071\n",
            "Epoch 27/60\n",
            "6/6 [==============================] - 4s 724ms/step - loss: 0.1610 - accuracy: 0.9820 - val_loss: 0.9193 - val_accuracy: 0.6071\n",
            "Epoch 28/60\n",
            "6/6 [==============================] - 4s 719ms/step - loss: 0.1509 - accuracy: 0.9850 - val_loss: 0.9265 - val_accuracy: 0.5952\n",
            "Epoch 29/60\n",
            "6/6 [==============================] - 4s 721ms/step - loss: 0.1693 - accuracy: 0.9730 - val_loss: 0.9275 - val_accuracy: 0.5952\n",
            "Epoch 30/60\n",
            "6/6 [==============================] - 4s 718ms/step - loss: 0.1621 - accuracy: 0.9820 - val_loss: 0.9266 - val_accuracy: 0.5952\n",
            "Epoch 31/60\n",
            "6/6 [==============================] - ETA: 0s - loss: 0.1642 - accuracy: 0.9850Restoring model weights from the end of the best epoch: 26.\n",
            "6/6 [==============================] - 4s 729ms/step - loss: 0.1642 - accuracy: 0.9850 - val_loss: 0.9228 - val_accuracy: 0.5833\n",
            "Epoch 31: early stopping\n"
          ]
        }
      ]
    },
    {
      "cell_type": "code",
      "source": [
        "model.evaluate(X_test, y_test)"
      ],
      "metadata": {
        "colab": {
          "base_uri": "https://localhost:8080/"
        },
        "id": "uP3TS0dSUwsI",
        "outputId": "f66e86ad-5c35-4880-b7b8-db2f9841e00c"
      },
      "execution_count": 32,
      "outputs": [
        {
          "output_type": "stream",
          "name": "stdout",
          "text": [
            "4/4 [==============================] - 1s 235ms/step - loss: 0.7936 - accuracy: 0.6857\n"
          ]
        },
        {
          "output_type": "execute_result",
          "data": {
            "text/plain": [
              "[0.7936481237411499, 0.6857143044471741]"
            ]
          },
          "metadata": {},
          "execution_count": 32
        }
      ]
    },
    {
      "cell_type": "code",
      "source": [
        "test_image  = cv.imread(\"/content/sample_data/image (1).png\", 0)\n",
        "test_image2  = cv.imread(\"/content/sample_data/image.png\", 0)"
      ],
      "metadata": {
        "id": "ARkOI5O5Y5Cr"
      },
      "execution_count": 58,
      "outputs": []
    },
    {
      "cell_type": "code",
      "source": [
        "plt.imshow(test_image)"
      ],
      "metadata": {
        "colab": {
          "base_uri": "https://localhost:8080/",
          "height": 286
        },
        "id": "Ixx8ihg_aIYX",
        "outputId": "a3e2ca53-967d-442f-fcb8-8599c0ee0984"
      },
      "execution_count": 59,
      "outputs": [
        {
          "output_type": "execute_result",
          "data": {
            "text/plain": [
              "<matplotlib.image.AxesImage at 0x7f1a7cb66250>"
            ]
          },
          "metadata": {},
          "execution_count": 59
        },
        {
          "output_type": "display_data",
          "data": {
            "text/plain": [
              "<Figure size 432x288 with 1 Axes>"
            ],
            "image/png": "[encoded data removed]"
          },
          "metadata": {
            "needs_background": "light"
          }
        }
      ]
    },
    {
      "cell_type": "code",
      "source": [
        "test_image = preprocess_image_improved(test_image)\n",
        "test_image = np.array([(test_image)])\n",
        "test_image = test_image.reshape(1,300,300,3)"
      ],
      "metadata": {
        "id": "E3IUtA0aaC5m"
      },
      "execution_count": 60,
      "outputs": []
    },
    {
      "cell_type": "code",
      "source": [
        "test_image2 = preprocess_image_improved(test_image2)\n",
        "test_image2 = np.array([(test_image2)])\n",
        "test_image2 = test_image2.reshape(1,300,300,3)"
      ],
      "metadata": {
        "id": "-Gob77zzZBFS"
      },
      "execution_count": 61,
      "outputs": []
    },
    {
      "cell_type": "code",
      "source": [
        "y_cat"
      ],
      "metadata": {
        "colab": {
          "base_uri": "https://localhost:8080/"
        },
        "id": "d417jdAbbCzq",
        "outputId": "5df73371-7554-44ac-bb24-19e903d7b6ba"
      },
      "execution_count": 64,
      "outputs": [
        {
          "output_type": "execute_result",
          "data": {
            "text/plain": [
              "array([[1., 0., 0.],\n",
              "       [1., 0., 0.],\n",
              "       [1., 0., 0.],\n",
              "       ...,\n",
              "       [0., 0., 1.],\n",
              "       [0., 0., 1.],\n",
              "       [0., 0., 1.]], dtype=float32)"
            ]
          },
          "metadata": {},
          "execution_count": 64
        }
      ]
    },
    {
      "cell_type": "code",
      "source": [
        "model.predict(test_image)"
      ],
      "metadata": {
        "colab": {
          "base_uri": "https://localhost:8080/"
        },
        "id": "cG_DaREdZRKr",
        "outputId": "7d8f6401-9119-46d6-f86f-122a10ea6a6a"
      },
      "execution_count": 62,
      "outputs": [
        {
          "output_type": "stream",
          "name": "stdout",
          "text": [
            "1/1 [==============================] - 0s 18ms/step\n"
          ]
        },
        {
          "output_type": "execute_result",
          "data": {
            "text/plain": [
              "array([[0.9230295 , 0.00173655, 0.07523399]], dtype=float32)"
            ]
          },
          "metadata": {},
          "execution_count": 62
        }
      ]
    },
    {
      "cell_type": "code",
      "source": [
        "model.predict(test_image2)"
      ],
      "metadata": {
        "colab": {
          "base_uri": "https://localhost:8080/"
        },
        "id": "paSFJHfyaQcY",
        "outputId": "1be786b4-57e3-4db1-eb65-cfba73aa27e2"
      },
      "execution_count": 63,
      "outputs": [
        {
          "output_type": "stream",
          "name": "stdout",
          "text": [
            "1/1 [==============================] - 0s 17ms/step\n"
          ]
        },
        {
          "output_type": "execute_result",
          "data": {
            "text/plain": [
              "array([[9.4043172e-04, 9.9801588e-01, 1.0436607e-03]], dtype=float32)"
            ]
          },
          "metadata": {},
          "execution_count": 63
        }
      ]
    }
  ],
  "metadata": {
    "kernelspec": {
      "display_name": "Python 3.10.6 64-bit ('wavewatcher')",
      "language": "python",
      "name": "python3"
    },
    "language_info": {
      "codemirror_mode": {
        "name": "ipython",
        "version": 3
      },
      "file_extension": ".py",
      "mimetype": "text/x-python",
      "name": "python",
      "nbconvert_exporter": "python",
      "pygments_lexer": "ipython3",
      "version": "3.10.6"
    },
    "orig_nbformat": 4,
    "vscode": {
      "interpreter": {
        "hash": "939b3d73e37548e6d99cf4126d755001bf5241886bd4e8de23291a3246d9befb"
      }
    },
    "colab": {
      "provenance": []
    },
    "accelerator": "GPU",
    "gpuClass": "standard"
  },
  "nbformat": 4,
  "nbformat_minor": 0
}