{
  "cells": [
    {
      "cell_type": "markdown",
      "metadata": {
        "id": "moTaBBdfPMSD"
      },
      "source": [
        "First we will load a 100 images to test the preprocessing speed"
      ]
    },
    {
      "cell_type": "code",
      "execution_count": 1,
      "metadata": {
        "id": "SRO5F3yePMSM"
      },
      "outputs": [],
      "source": [
        "import cv2 as cv\n",
        "import matplotlib.pyplot as plt\n",
        "import skimage\n",
        "import glob \n",
        "import os \n",
        "import random\n",
        "import numpy as np\n",
        "import pandas as pd\n",
        "from PIL import ImageFile\n",
        "from sklearn.model_selection import train_test_split\n",
        "\n",
        "#what is the role of truncated images?\n",
        "ImageFile.LOAD_TRUNCATED_IMAGES = True\n",
        "\n"
      ]
    },
    {
      "cell_type": "code",
      "execution_count": 2,
      "metadata": {
        "id": "aCvf7rsEPMSP"
      },
      "outputs": [],
      "source": [
        "import numpy as np\n",
        "import pandas as pd\n",
        "from tensorflow.keras import layers, Sequential, models\n",
        "from keras.utils import to_categorical\n",
        "from keras.optimizers import Adam\n",
        "from keras.callbacks import EarlyStopping\n",
        "from keras.applications import efficientnet, vgg16\n",
        "from keras.metrics import Recall"
      ]
    },
    {
      "cell_type": "code",
      "source": [
        "from google.colab import auth\n",
        "auth.authenticate_user()\n"
      ],
      "metadata": {
        "id": "iin1aX7JPxL1"
      },
      "execution_count": 3,
      "outputs": []
    },
    {
      "cell_type": "code",
      "source": [
        "from google.cloud import storage"
      ],
      "metadata": {
        "id": "W0I4I09YP551"
      },
      "execution_count": 4,
      "outputs": []
    },
    {
      "cell_type": "code",
      "source": [
        "def download_blob(bucket_name, parent_blob: str):\n",
        "    \"\"\"Downloads a blob from the bucket.\"\"\"\n",
        "    #create client\n",
        "    storage_client = storage.Client()\n",
        "\n",
        "    #fetch blob\n",
        "    blobs = storage_client.list_blobs(bucket_name)\n",
        "\n",
        "    #make host directory if it doesn't exist\n",
        "    if not os.path.isdir(parent_blob):\n",
        "        os.mkdir(parent_blob)\n",
        "\n",
        "    for blob in blobs:\n",
        "        #where I want it stored!\n",
        "        blob.download_to_filename(blob.name)\n",
        "    return True"
      ],
      "metadata": {
        "id": "Q6KbinhePwwa"
      },
      "execution_count": 5,
      "outputs": []
    },
    {
      "cell_type": "code",
      "source": [
        "import zipfile\n",
        "\n",
        "def extract_to(parent_blob):\n",
        "    ##Unzips all files in our parent blob we just downloaded from GCS\n",
        "    for zipped_file in os.listdir(parent_blob):\n",
        "        print(f\"Unzipping {zipped_file}...\")\n",
        "        with zipfile.ZipFile(os.path.join(parent_blob, zipped_file),\n",
        "                             'r') as zip_ref:\n",
        "            #we do not define an extraction directory since the zipped files already contain\n",
        "            #the directories, since there was a large folder containing\n",
        "            #all subsequent folders with files belonging to each category\n",
        "            zip_ref.extractall()\n",
        "        print(\"Success!\")\n"
      ],
      "metadata": {
        "id": "8EDmUA2xP9Zp"
      },
      "execution_count": 6,
      "outputs": []
    },
    {
      "cell_type": "code",
      "source": [
        "download_blob(\"waves_surfer_data\",\"zipped_waves\")\n",
        "\n",
        "extract_to(\"zipped_waves\")\n"
      ],
      "metadata": {
        "colab": {
          "base_uri": "https://localhost:8080/"
        },
        "id": "SU_tM7AZQAlb",
        "outputId": "0be1828b-0057-4df6-f346-57d3091294b3"
      },
      "execution_count": 7,
      "outputs": [
        {
          "output_type": "stream",
          "name": "stdout",
          "text": [
            "Unzipping Good.zip...\n",
            "Success!\n",
            "Unzipping Chaotic.zip...\n",
            "Success!\n",
            "Unzipping Flat.zip...\n",
            "Success!\n"
          ]
        }
      ]
    },
    {
      "cell_type": "markdown",
      "metadata": {
        "id": "iIjFPV2mPMSQ"
      },
      "source": [
        "The preprocessing below works. It has been commented out to replace it with a better one. "
      ]
    },
    {
      "cell_type": "code",
      "execution_count": null,
      "metadata": {
        "id": "daVFzno-PMSR"
      },
      "outputs": [],
      "source": [
        "# def preprocess_image(image):\n",
        "#     resized = cv.resize(image,(300,300),interpolation = cv.INTER_AREA)\n",
        "#     img = cv.medianBlur(resized,5)\n",
        "#     ret,th1 = cv.threshold(img,127,255,cv.THRESH_BINARY)\n",
        "#     th2 = cv.adaptiveThreshold(img,255,cv.ADAPTIVE_THRESH_MEAN_C,\\\n",
        "#             cv.THRESH_BINARY,11,2)\n",
        "#     th3 = cv.adaptiveThreshold(img,255,cv.ADAPTIVE_THRESH_GAUSSIAN_C,\\\n",
        "#             cv.THRESH_BINARY,15,2)\n",
        "#     images = [th1, th2, th3, img]\n",
        "\n",
        "    \n",
        "#     return images\n",
        "    "
      ]
    },
    {
      "cell_type": "code",
      "execution_count": null,
      "metadata": {
        "id": "FyPpCGd0PMSS"
      },
      "outputs": [],
      "source": [
        "\"\"\"def preprocess_image_improved(image,reshape_size):\n",
        "    if image.shape == (570, 1015, 4):\n",
        "        image = cv.cvtColor(image, cv.COLOR_BGRA2BGR)\n",
        "        cropped = image[250:-100,100:]\n",
        "        resized = cv.resize(cropped,(reshape_size,reshape_size),interpolation = cv.INTER_AREA)\n",
        "        gray_img = np.uint8((cv.cvtColor(resized, cv.COLOR_BGR2GRAY))*250)\n",
        "        edges = cv.Canny(gray_img,50,50)\n",
        "        gaussian = cv.adaptiveThreshold(gray_img,255,cv.ADAPTIVE_THRESH_GAUSSIAN_C,\\\n",
        "            cv.THRESH_BINARY,13,3)\n",
        "        (T, thresh1) = cv.threshold(resized, 0.4, 0.6,\n",
        "                            cv.THRESH_BINARY_INV)\n",
        "        (T, thresh) = cv.threshold(resized, 0.6, 0.9, cv.THRESH_BINARY)\n",
        "        images = [edges,gaussian,thresh1.T[0],thresh1.T[1],thresh1.T[2],thresh.T[0],thresh.T[1],thresh.T[2]]\n",
        "        images[0] = images[0]/255\n",
        "        images[1] = images[1]/255\n",
        "        return images\n",
        "    \n",
        "    elif image.shape == (582, 1034, 4):\n",
        "        image = cv.cvtColor(image, cv.COLOR_BGRA2BGR)\n",
        "        cropped = image[60:500,:]\n",
        "        resized = cv.resize(cropped,(reshape_size,reshape_size),interpolation = cv.INTER_AREA)\n",
        "        gray_img = np.uint8((cv.cvtColor(resized, cv.COLOR_BGR2GRAY))*250)\n",
        "        edges = cv.Canny(gray_img,50,50)\n",
        "        gaussian = cv.adaptiveThreshold(gray_img,255,cv.ADAPTIVE_THRESH_GAUSSIAN_C,\\\n",
        "            cv.THRESH_BINARY,13,3)\n",
        "        (T, thresh1) = cv.threshold( resized, 0.4, 0.6,\n",
        "                            cv.THRESH_BINARY_INV)\n",
        "        (T, thresh) = cv.threshold(resized, 0.6, 0.9, cv.THRESH_BINARY)\n",
        "        images = [edges,gaussian,thresh1.T[0],thresh1.T[1],thresh1.T[2],thresh.T[0],thresh.T[1],thresh.T[2]]\n",
        "        images[0] = images[0]/255\n",
        "        images[1] = images[1]/255\n",
        "        return images\n",
        "    \n",
        "    elif image.shape == (624, 1200, 4):\n",
        "        image = cv.cvtColor(image, cv.COLOR_BGRA2BGR)\n",
        "        cropped = image[150:,:]\n",
        "        resized = cv.resize(cropped,(reshape_size,reshape_size),interpolation = cv.INTER_AREA)\n",
        "        gray_img = np.uint8((cv.cvtColor(resized, cv.COLOR_BGR2GRAY))*250)\n",
        "        edges = cv.Canny(gray_img,100,100)\n",
        "        gaussian = cv.adaptiveThreshold(gray_img,255,cv.ADAPTIVE_THRESH_GAUSSIAN_C,\\\n",
        "            cv.THRESH_BINARY,11,3)\n",
        "        (T, thresh1) = cv.threshold( resized, 0.4, 0.6,\n",
        "                            cv.THRESH_BINARY_INV)\n",
        "        (T, thresh) = cv.threshold(resized, 0.6, 0.9, cv.THRESH_BINARY)\n",
        "        images = [edges,gaussian,thresh1.T[0],thresh1.T[1],thresh1.T[2],thresh.T[0],thresh.T[1],thresh.T[2]]\n",
        "        images[0] = images[0]/255\n",
        "        images[1] = images[1]/255\n",
        "        return images\n",
        "    \n",
        "    #EL PORTO IMAGES FOR GOOD ARE FAILING SYSTEMATICALLY\n",
        "    elif image.shape == (624, 1110, 4):\n",
        "        image = cv.cvtColor(image, cv.COLOR_BGRA2BGR)\n",
        "        cropped = image[350:-100,:]\n",
        "        resized = cv.resize(cropped,(reshape_size,reshape_size),interpolation = cv.INTER_AREA)\n",
        "        gray_img = np.uint8((cv.cvtColor(resized, cv.COLOR_BGR2GRAY))*250)\n",
        "        edges = cv.Canny(gray_img,50,250)\n",
        "        gaussian = cv.adaptiveThreshold(gray_img,255,cv.ADAPTIVE_THRESH_GAUSSIAN_C,\\\n",
        "            cv.THRESH_BINARY,9,5)\n",
        "        (T, thresh1) = cv.threshold( resized, 0.4, 0.6,\n",
        "                            cv.THRESH_BINARY_INV)\n",
        "        (T, thresh) = cv.threshold(resized, 0.6, 0.9, cv.THRESH_BINARY)\n",
        "        images = [edges,gaussian,thresh1.T[0],thresh1.T[1],thresh1.T[2],thresh.T[0],thresh.T[1],thresh.T[2]]\n",
        "        images[0] = images[0]/250\n",
        "        images[1] = images[1]/250\n",
        "    \n",
        "        return images\n",
        "    \n",
        "    \n",
        "    #WE HAVE THROWN ALL OF THOSE IN HERE FOR NOW  \n",
        "    else:\n",
        "        image = cv.cvtColor(image, cv.COLOR_BGRA2BGR)\n",
        "        cropped = image[150:,:]\n",
        "        resized = cv.resize(cropped,(reshape_size,reshape_size),interpolation = cv.INTER_AREA)\n",
        "        gray_img = np.uint8((cv.cvtColor(resized, cv.COLOR_BGR2GRAY))*250)\n",
        "        edges = cv.Canny(gray_img,100,100)\n",
        "        gaussian = cv.adaptiveThreshold(gray_img,255,cv.ADAPTIVE_THRESH_GAUSSIAN_C,\\\n",
        "            cv.THRESH_BINARY,11,3)\n",
        "        (T, thresh1) = cv.threshold( resized, 0.4, 0.6,\n",
        "                            cv.THRESH_BINARY_INV)\n",
        "        (T, thresh) = cv.threshold(resized, 0.6, 0.9, cv.THRESH_BINARY)\n",
        "        images = [edges,gaussian,thresh1.T[0],thresh1.T[1],thresh1.T[2],thresh.T[0],thresh.T[1],thresh.T[2]]\n",
        "        images[0] = images[0]/255\n",
        "        images[1] = images[1]/255\n",
        "        \n",
        "        return images\"\"\""
      ]
    },
    {
      "cell_type": "markdown",
      "source": [
        "The below preprocessing function is made for VGG16 model"
      ],
      "metadata": {
        "id": "9hSfFCiu0OFQ"
      }
    },
    {
      "cell_type": "code",
      "execution_count": 3,
      "metadata": {
        "id": "Q-CQ-2OhPMSU"
      },
      "outputs": [],
      "source": [
        "def preprocess_image_improved(image):\n",
        "    if image.shape == (570, 1015):\n",
        "        cropped = image[250:-100,100:]\n",
        "    elif image.shape == (582, 1034):\n",
        "        cropped = image[60:500,:]\n",
        "    elif image.shape == (624, 1200):\n",
        "        cropped = image[150:,:]\n",
        "    elif image.shape == (624, 1110):\n",
        "        cropped = image[350:-100,:]\n",
        "    else:\n",
        "        cropped = image[150:,:]\n",
        "        \n",
        "    img = cv.resize(cropped,(300,300),interpolation = cv.INTER_AREA)\n",
        "    img = cv.medianBlur(img,5)\n",
        "    ret,th1 = cv.threshold(img,127,255,cv.THRESH_BINARY)\n",
        "    th2 = cv.adaptiveThreshold(img,255,cv.ADAPTIVE_THRESH_MEAN_C,\\\n",
        "                cv.THRESH_BINARY,11,2)\n",
        "#     th3 = cv.adaptiveThreshold(img,255,cv.ADAPTIVE_THRESH_GAUSSIAN_C,\\\n",
        "#                 cv.THRESH_BINARY,15,2)\n",
        "    images =[th1,img,th2]\n",
        "    \n",
        "    return images"
      ]
    },
    {
      "cell_type": "code",
      "execution_count": 5,
      "metadata": {
        "colab": {
          "base_uri": "https://localhost:8080/"
        },
        "id": "Ko5yPpUpPMSV",
        "outputId": "41d4a2a1-0e96-440d-f92d-27ecf2208f1b"
      },
      "outputs": [
        {
          "output_type": "stream",
          "name": "stdout",
          "text": [
            "['Chaotic', 'Good', 'Flat']\n",
            "Preprocessing folder Chaotic...\n",
            "Preprocessing folder Good...\n",
            "Preprocessing folder Flat...\n"
          ]
        },
        {
          "output_type": "execute_result",
          "data": {
            "text/plain": [
              "((522, 300, 300, 3), (522,))"
            ]
          },
          "metadata": {},
          "execution_count": 5
        }
      ],
      "source": [
        "X = []\n",
        "y = []\n",
        "idx = 0\n",
        "failed =[]\n",
        "\n",
        "for root , dirs , files in os.walk(\"raw_data\"):\n",
        "    if dirs:\n",
        "        parent = root\n",
        "        folders = dirs\n",
        "        print(folders)\n",
        "\n",
        "    if files:\n",
        "        print(f\"Preprocessing folder {folders[idx]}...\")\n",
        "        failed = [] \n",
        "        for file in np.random.choice(np.array(files),len(files), replace = False):\n",
        "            try:\n",
        "                original_image = cv.imread(os.path.join(parent , folders[idx], file), 0)\n",
        "                \n",
        "                     \n",
        "                processed_image = preprocess_image_improved(original_image)\n",
        "                \n",
        "                if len(processed_image) < 2:\n",
        "                    print(f\"problemita in {os.path.join(parent , folders[idx], file)}\")\n",
        "                else:\n",
        "                    X.append(np.array(processed_image).T)\n",
        "                    y.append(idx)\n",
        "                #The print below was just to check the value for each situation\n",
        "                #print(idx)\n",
        "            \n",
        "            except Exception as e:\n",
        "                 print(\"Detected bad image!\")\n",
        "                 failed.append(os.path.join(parent , folders[idx], file))\n",
        "                 continue\n",
        "        \n",
        "        idx += 1\n",
        "        \n",
        "X = np.array(X)\n",
        "y = np.array(y)\n",
        "X.shape , y.shape"
      ]
    },
    {
      "cell_type": "markdown",
      "metadata": {
        "id": "9RmbUtWpPMSX"
      },
      "source": [
        "The code below is a clue from Nicole about what can we do to fix X shape."
      ]
    },
    {
      "cell_type": "markdown",
      "metadata": {
        "id": "U3XaeCPsPMSY"
      },
      "source": [
        "Let's augment the little data we have. Considering the nature of the data heavy rotations are not advised."
      ]
    },
    {
      "cell_type": "code",
      "execution_count": null,
      "metadata": {
        "id": "wxVKYZoAPMSZ",
        "outputId": "0602c603-c532-40d0-e052-63d7f3b809a2"
      },
      "outputs": [
        {
          "ename": "",
          "evalue": "",
          "output_type": "error",
          "traceback": [
            "\u001b[1;31mnotebook controller is DISPOSED. \n",
            "\u001b[1;31mView Jupyter <a href='command:jupyter.viewOutput'>log</a> for further details."
          ]
        },
        {
          "ename": "",
          "evalue": "",
          "output_type": "error",
          "traceback": [
            "\u001b[1;31mnotebook controller is DISPOSED. \n",
            "\u001b[1;31mView Jupyter <a href='command:jupyter.viewOutput'>log</a> for further details."
          ]
        },
        {
          "ename": "",
          "evalue": "",
          "output_type": "error",
          "traceback": [
            "\u001b[1;31mnotebook controller is DISPOSED. \n",
            "\u001b[1;31mView Jupyter <a href='command:jupyter.viewOutput'>log</a> for further details."
          ]
        }
      ],
      "source": [
        "# from tensorflow.keras.preprocessing.image import ImageDataGenerator\n",
        "\n",
        "# datagen = ImageDataGenerator(\n",
        "#     featurewise_center = False,\n",
        "#     featurewise_std_normalization = False,\n",
        "#     rotation_range = 10,\n",
        "#     width_shift_range = 0.1,\n",
        "#     height_shift_range = 0.1,\n",
        "#     horizontal_flip = True,\n",
        "#     zoom_range = (0.8, 1.2),\n",
        "#     #I added brightness changes, I think they are relevant to our task\n",
        "#     brightness_range =(0.5,1)\n",
        "#     ) "
      ]
    },
    {
      "cell_type": "code",
      "source": [
        "X.shape"
      ],
      "metadata": {
        "colab": {
          "base_uri": "https://localhost:8080/"
        },
        "id": "V_bWJU1CReYp",
        "outputId": "3113ac0d-d744-4cfe-e0d3-5684a5aa8fe6"
      },
      "execution_count": 6,
      "outputs": [
        {
          "output_type": "execute_result",
          "data": {
            "text/plain": [
              "(522, 300, 300, 3)"
            ]
          },
          "metadata": {},
          "execution_count": 6
        }
      ]
    },
    {
      "cell_type": "code",
      "execution_count": 7,
      "metadata": {
        "id": "TeMt8nwvPMSa"
      },
      "outputs": [],
      "source": [
        "y_cat = to_categorical(y)"
      ]
    },
    {
      "cell_type": "code",
      "execution_count": 8,
      "metadata": {
        "id": "4fHinSa4PMSb"
      },
      "outputs": [],
      "source": [
        "X_train, X_test, y_train, y_test = train_test_split(X, y_cat, test_size=0.20)"
      ]
    },
    {
      "cell_type": "markdown",
      "source": [
        "This is the moment when we try Transfer Learning!"
      ],
      "metadata": {
        "id": "Zre7_JPcRjZp"
      }
    },
    {
      "cell_type": "code",
      "source": [
        "recall = Recall()\n",
        "\n",
        "def compile_model(model, learning_rate=1e-4):\n",
        "    model.compile(loss = \"categorical_crossentropy\",\n",
        "                            optimizer = Adam(learning_rate=learning_rate),\n",
        "                            metrics = [\"accuracy\"])\n",
        "    return model"
      ],
      "metadata": {
        "id": "LQbfI62XRimS"
      },
      "execution_count": 9,
      "outputs": []
    },
    {
      "cell_type": "code",
      "source": [
        "def initialize_vgg():\n",
        "    n_classes = 3\n",
        "    model = models.Sequential()\n",
        "    model.add(vgg16.VGG16(weights=\"imagenet\",\n",
        "                    include_top=False,\n",
        "                    input_shape= (300, 300, 3),\n",
        "                    classes = n_classes))\n",
        "    model.add(layers.GlobalAveragePooling2D())\n",
        "    model.add(layers.Flatten())\n",
        "    model.add(layers.BatchNormalization())\n",
        "    model.add(layers.Dense(256, activation = \"relu\"))\n",
        "    model.add(layers.Dropout(0.2))\n",
        "    \n",
        "    model.add(layers.BatchNormalization())\n",
        "    model.add(layers.Dense(256, activation = \"relu\"))\n",
        "    model.add(layers.Dropout(0.2))\n",
        "    model.add(layers.BatchNormalization())\n",
        "    \n",
        "    model.add(layers.Dense(n_classes, activation = \"softmax\"))\n",
        "    model.layers[0].trainable = False\n",
        "    return model"
      ],
      "metadata": {
        "id": "3-a-WZoJRiCg"
      },
      "execution_count": 151,
      "outputs": []
    },
    {
      "cell_type": "code",
      "source": [
        "model2 = initialize_vgg()\n",
        "model2.summary()"
      ],
      "metadata": {
        "colab": {
          "base_uri": "https://localhost:8080/"
        },
        "id": "6S-uFJqnSLxc",
        "outputId": "6a1c7021-f3a5-4526-c52b-cbd4cf29614e"
      },
      "execution_count": 155,
      "outputs": [
        {
          "output_type": "stream",
          "name": "stdout",
          "text": [
            "Model: \"sequential_26\"\n",
            "_________________________________________________________________\n",
            " Layer (type)                Output Shape              Param #   \n",
            "=================================================================\n",
            " vgg16 (Functional)          (None, 9, 9, 512)         14714688  \n",
            "                                                                 \n",
            " global_average_pooling2d_13  (None, 512)              0         \n",
            "  (GlobalAveragePooling2D)                                       \n",
            "                                                                 \n",
            " flatten_25 (Flatten)        (None, 512)               0         \n",
            "                                                                 \n",
            " batch_normalization_78 (Bat  (None, 512)              2048      \n",
            " chNormalization)                                                \n",
            "                                                                 \n",
            " dense_78 (Dense)            (None, 256)               131328    \n",
            "                                                                 \n",
            " dropout_39 (Dropout)        (None, 256)               0         \n",
            "                                                                 \n",
            " batch_normalization_79 (Bat  (None, 256)              1024      \n",
            " chNormalization)                                                \n",
            "                                                                 \n",
            " dense_79 (Dense)            (None, 256)               65792     \n",
            "                                                                 \n",
            " dropout_40 (Dropout)        (None, 256)               0         \n",
            "                                                                 \n",
            " batch_normalization_80 (Bat  (None, 256)              1024      \n",
            " chNormalization)                                                \n",
            "                                                                 \n",
            " dense_80 (Dense)            (None, 3)                 771       \n",
            "                                                                 \n",
            "=================================================================\n",
            "Total params: 14,916,675\n",
            "Trainable params: 199,939\n",
            "Non-trainable params: 14,716,736\n",
            "_________________________________________________________________\n"
          ]
        }
      ]
    },
    {
      "cell_type": "code",
      "source": [
        "model2 = compile_model(model2)"
      ],
      "metadata": {
        "id": "W9jhjqKESbHi"
      },
      "execution_count": 156,
      "outputs": []
    },
    {
      "cell_type": "code",
      "source": [
        "es = EarlyStopping(monitor = 'val_recall_3', \n",
        "                   mode = 'max', \n",
        "                   patience = 10, \n",
        "                   verbose = 1, \n",
        "                   restore_best_weights = True)\n",
        "\n",
        "history = model2.fit(X_train, y_train,\n",
        "                             validation_split = 0.2,\n",
        "                             batch_size = 16, \n",
        "                             epochs = 40, \n",
        "                             callbacks=[es])"
      ],
      "metadata": {
        "colab": {
          "base_uri": "https://localhost:8080/"
        },
        "id": "3RACvAAlR9D0",
        "outputId": "5ac2001f-a581-45fe-c126-fca18d43ae29"
      },
      "execution_count": 157,
      "outputs": [
        {
          "output_type": "stream",
          "name": "stdout",
          "text": [
            "Epoch 1/40\n",
            "21/21 [==============================] - 6s 209ms/step - loss: 1.4040 - recall_3: 0.4039 - val_loss: 1.2029 - val_recall_3: 0.3333\n",
            "Epoch 2/40\n",
            "21/21 [==============================] - 4s 188ms/step - loss: 1.2900 - recall_3: 0.3844 - val_loss: 1.1269 - val_recall_3: 0.4167\n",
            "Epoch 3/40\n",
            "21/21 [==============================] - 4s 190ms/step - loss: 1.1031 - recall_3: 0.4655 - val_loss: 1.0731 - val_recall_3: 0.4286\n",
            "Epoch 4/40\n",
            "21/21 [==============================] - 4s 190ms/step - loss: 1.0202 - recall_3: 0.5255 - val_loss: 1.0255 - val_recall_3: 0.4405\n",
            "Epoch 5/40\n",
            "21/21 [==============================] - 4s 191ms/step - loss: 0.8619 - recall_3: 0.5676 - val_loss: 0.9982 - val_recall_3: 0.4643\n",
            "Epoch 6/40\n",
            "21/21 [==============================] - 4s 193ms/step - loss: 0.9468 - recall_3: 0.5586 - val_loss: 0.9693 - val_recall_3: 0.4762\n",
            "Epoch 7/40\n",
            "21/21 [==============================] - 4s 193ms/step - loss: 0.8426 - recall_3: 0.5856 - val_loss: 0.9470 - val_recall_3: 0.5000\n",
            "Epoch 8/40\n",
            "21/21 [==============================] - 4s 191ms/step - loss: 0.6844 - recall_3: 0.6607 - val_loss: 0.9332 - val_recall_3: 0.4881\n",
            "Epoch 9/40\n",
            "21/21 [==============================] - 4s 192ms/step - loss: 0.7024 - recall_3: 0.6757 - val_loss: 0.9381 - val_recall_3: 0.4881\n",
            "Epoch 10/40\n",
            "21/21 [==============================] - 4s 195ms/step - loss: 0.7234 - recall_3: 0.6456 - val_loss: 0.9297 - val_recall_3: 0.5119\n",
            "Epoch 11/40\n",
            "21/21 [==============================] - 4s 193ms/step - loss: 0.6458 - recall_3: 0.6787 - val_loss: 0.9296 - val_recall_3: 0.5119\n",
            "Epoch 12/40\n",
            "21/21 [==============================] - 4s 192ms/step - loss: 0.6704 - recall_3: 0.6607 - val_loss: 0.9369 - val_recall_3: 0.5119\n",
            "Epoch 13/40\n",
            "21/21 [==============================] - 4s 192ms/step - loss: 0.6129 - recall_3: 0.6937 - val_loss: 0.9420 - val_recall_3: 0.5119\n",
            "Epoch 14/40\n",
            "21/21 [==============================] - 5s 218ms/step - loss: 0.5784 - recall_3: 0.7207 - val_loss: 0.9477 - val_recall_3: 0.5476\n",
            "Epoch 15/40\n",
            "21/21 [==============================] - 4s 189ms/step - loss: 0.6076 - recall_3: 0.7207 - val_loss: 0.9641 - val_recall_3: 0.5476\n",
            "Epoch 16/40\n",
            "21/21 [==============================] - 4s 189ms/step - loss: 0.5564 - recall_3: 0.7237 - val_loss: 0.9784 - val_recall_3: 0.5476\n",
            "Epoch 17/40\n",
            "21/21 [==============================] - 4s 189ms/step - loss: 0.5362 - recall_3: 0.7447 - val_loss: 0.9828 - val_recall_3: 0.5476\n",
            "Epoch 18/40\n",
            "21/21 [==============================] - 4s 191ms/step - loss: 0.4896 - recall_3: 0.7598 - val_loss: 0.9888 - val_recall_3: 0.5595\n",
            "Epoch 19/40\n",
            "21/21 [==============================] - 4s 192ms/step - loss: 0.4912 - recall_3: 0.7808 - val_loss: 1.0139 - val_recall_3: 0.5714\n",
            "Epoch 20/40\n",
            "21/21 [==============================] - 4s 192ms/step - loss: 0.4972 - recall_3: 0.7658 - val_loss: 1.0172 - val_recall_3: 0.5952\n",
            "Epoch 21/40\n",
            "21/21 [==============================] - 4s 189ms/step - loss: 0.4943 - recall_3: 0.7688 - val_loss: 1.0283 - val_recall_3: 0.5833\n",
            "Epoch 22/40\n",
            "21/21 [==============================] - 4s 192ms/step - loss: 0.4149 - recall_3: 0.8018 - val_loss: 1.0352 - val_recall_3: 0.5833\n",
            "Epoch 23/40\n",
            "21/21 [==============================] - 4s 190ms/step - loss: 0.4328 - recall_3: 0.8228 - val_loss: 1.0417 - val_recall_3: 0.5833\n",
            "Epoch 24/40\n",
            "21/21 [==============================] - 4s 190ms/step - loss: 0.3931 - recall_3: 0.8258 - val_loss: 1.0538 - val_recall_3: 0.5714\n",
            "Epoch 25/40\n",
            "21/21 [==============================] - 4s 190ms/step - loss: 0.3935 - recall_3: 0.8348 - val_loss: 1.0517 - val_recall_3: 0.5833\n",
            "Epoch 26/40\n",
            "21/21 [==============================] - 4s 189ms/step - loss: 0.3493 - recall_3: 0.8318 - val_loss: 1.0700 - val_recall_3: 0.5833\n",
            "Epoch 27/40\n",
            "21/21 [==============================] - 4s 190ms/step - loss: 0.3633 - recall_3: 0.8318 - val_loss: 1.0840 - val_recall_3: 0.5714\n",
            "Epoch 28/40\n",
            "21/21 [==============================] - 4s 190ms/step - loss: 0.3869 - recall_3: 0.8048 - val_loss: 1.0932 - val_recall_3: 0.5714\n",
            "Epoch 29/40\n",
            "21/21 [==============================] - 4s 191ms/step - loss: 0.3250 - recall_3: 0.8498 - val_loss: 1.0832 - val_recall_3: 0.5952\n",
            "Epoch 30/40\n",
            "21/21 [==============================] - ETA: 0s - loss: 0.3195 - recall_3: 0.8589Restoring model weights from the end of the best epoch: 20.\n",
            "21/21 [==============================] - 4s 192ms/step - loss: 0.3195 - recall_3: 0.8589 - val_loss: 1.0978 - val_recall_3: 0.5833\n",
            "Epoch 30: early stopping\n"
          ]
        }
      ]
    },
    {
      "cell_type": "code",
      "source": [
        "model2.evaluate(X_test, y_test)"
      ],
      "metadata": {
        "colab": {
          "base_uri": "https://localhost:8080/"
        },
        "id": "uP3TS0dSUwsI",
        "outputId": "5f525023-adfd-4ec0-aacc-5fb94026392c"
      },
      "execution_count": 158,
      "outputs": [
        {
          "output_type": "stream",
          "name": "stdout",
          "text": [
            "4/4 [==============================] - 1s 229ms/step - loss: 0.8732 - recall_3: 0.6286\n"
          ]
        },
        {
          "output_type": "execute_result",
          "data": {
            "text/plain": [
              "[0.8731902241706848, 0.6285714507102966]"
            ]
          },
          "metadata": {},
          "execution_count": 158
        }
      ]
    },
    {
      "cell_type": "markdown",
      "source": [
        "ResearchNet B7 model"
      ],
      "metadata": {
        "id": "SmRVDdMu1Sxk"
      }
    },
    {
      "cell_type": "code",
      "source": [
        "def initialize_efficientnet():\n",
        "    n_classes = 3\n",
        "    model = models.Sequential()\n",
        "    model.add(\n",
        "        efficientnet.EfficientNetB7(weights = 'imagenet',\n",
        "                                     include_top = False,\n",
        "                                     classes = n_classes,\n",
        "                                     input_shape = (300, 300, 3))\n",
        "    )\n",
        "    model.add(layers.GlobalAveragePooling2D())\n",
        "    model.add(layers.Flatten())\n",
        "    model.add(layers.BatchNormalization())\n",
        "    model.add(layers.Dense(256, activation = \"relu\"))\n",
        "    model.add(layers.Dropout(0.2))\n",
        "    \n",
        "    model.add(layers.BatchNormalization())\n",
        "    model.add(layers.Dense(256, activation = \"relu\"))\n",
        "    model.add(layers.Dropout(0.2))\n",
        "    model.add(layers.BatchNormalization())\n",
        "\n",
        "    model.add(layers.Dense(n_classes, activation = \"softmax\"))\n",
        "    model.layers[0].trainable = False\n",
        "    return model\n",
        "    "
      ],
      "metadata": {
        "id": "AF9JFb9F2HDz"
      },
      "execution_count": 26,
      "outputs": []
    },
    {
      "cell_type": "code",
      "source": [
        "model = initialize_efficientnet()\n",
        "model.summary()"
      ],
      "metadata": {
        "colab": {
          "base_uri": "https://localhost:8080/"
        },
        "id": "s4FnprSD3Hus",
        "outputId": "6d96c56c-30d3-4f35-de72-4996611f667a"
      },
      "execution_count": 30,
      "outputs": [
        {
          "output_type": "stream",
          "name": "stdout",
          "text": [
            "Model: \"sequential_3\"\n",
            "_________________________________________________________________\n",
            " Layer (type)                Output Shape              Param #   \n",
            "=================================================================\n",
            " efficientnetb7 (Functional)  (None, 10, 10, 2560)     64097687  \n",
            "                                                                 \n",
            " global_average_pooling2d_3   (None, 2560)             0         \n",
            " (GlobalAveragePooling2D)                                        \n",
            "                                                                 \n",
            " flatten_3 (Flatten)         (None, 2560)              0         \n",
            "                                                                 \n",
            " batch_normalization_9 (Batc  (None, 2560)             10240     \n",
            " hNormalization)                                                 \n",
            "                                                                 \n",
            " dense_9 (Dense)             (None, 256)               655616    \n",
            "                                                                 \n",
            " dropout_6 (Dropout)         (None, 256)               0         \n",
            "                                                                 \n",
            " batch_normalization_10 (Bat  (None, 256)              1024      \n",
            " chNormalization)                                                \n",
            "                                                                 \n",
            " dense_10 (Dense)            (None, 256)               65792     \n",
            "                                                                 \n",
            " dropout_7 (Dropout)         (None, 256)               0         \n",
            "                                                                 \n",
            " batch_normalization_11 (Bat  (None, 256)              1024      \n",
            " chNormalization)                                                \n",
            "                                                                 \n",
            " dense_11 (Dense)            (None, 3)                 771       \n",
            "                                                                 \n",
            "=================================================================\n",
            "Total params: 64,832,154\n",
            "Trainable params: 728,323\n",
            "Non-trainable params: 64,103,831\n",
            "_________________________________________________________________\n"
          ]
        }
      ]
    },
    {
      "cell_type": "code",
      "source": [
        "model = compile_model(model)"
      ],
      "metadata": {
        "id": "B24QQCYv3Ql9"
      },
      "execution_count": 31,
      "outputs": []
    },
    {
      "cell_type": "code",
      "source": [
        "es = EarlyStopping(monitor = 'val_accuracy', \n",
        "                   mode = 'max', \n",
        "                   patience = 15, \n",
        "                   verbose = 1, \n",
        "                   restore_best_weights = True)\n",
        "\n",
        "history = model.fit(X_train, y_train,\n",
        "                             validation_split = 0.2,\n",
        "                             batch_size = 16, \n",
        "                             epochs = 60, \n",
        "                             callbacks=[es])"
      ],
      "metadata": {
        "colab": {
          "base_uri": "https://localhost:8080/"
        },
        "id": "2kgjMj5B3hDb",
        "outputId": "1004eda0-4637-4f5a-dbfb-0a447462fcbb"
      },
      "execution_count": 32,
      "outputs": [
        {
          "output_type": "stream",
          "name": "stdout",
          "text": [
            "Epoch 1/60\n",
            "21/21 [==============================] - 34s 691ms/step - loss: 1.4144 - accuracy: 0.4264 - val_loss: 1.0135 - val_accuracy: 0.6071\n",
            "Epoch 2/60\n",
            "21/21 [==============================] - 9s 441ms/step - loss: 1.1494 - accuracy: 0.5315 - val_loss: 0.9698 - val_accuracy: 0.6786\n",
            "Epoch 3/60\n",
            "21/21 [==============================] - 9s 425ms/step - loss: 0.9884 - accuracy: 0.5946 - val_loss: 0.9405 - val_accuracy: 0.6667\n",
            "Epoch 4/60\n",
            "21/21 [==============================] - 10s 467ms/step - loss: 0.8622 - accuracy: 0.6486 - val_loss: 0.9114 - val_accuracy: 0.5952\n",
            "Epoch 5/60\n",
            "21/21 [==============================] - 9s 427ms/step - loss: 0.7769 - accuracy: 0.6306 - val_loss: 0.8783 - val_accuracy: 0.6548\n",
            "Epoch 6/60\n",
            "21/21 [==============================] - 10s 487ms/step - loss: 0.7459 - accuracy: 0.6847 - val_loss: 0.8426 - val_accuracy: 0.6905\n",
            "Epoch 7/60\n",
            "21/21 [==============================] - 9s 429ms/step - loss: 0.6893 - accuracy: 0.7357 - val_loss: 0.8124 - val_accuracy: 0.6667\n",
            "Epoch 8/60\n",
            "21/21 [==============================] - 9s 449ms/step - loss: 0.5876 - accuracy: 0.7778 - val_loss: 0.7755 - val_accuracy: 0.7024\n",
            "Epoch 9/60\n",
            "21/21 [==============================] - 9s 432ms/step - loss: 0.5451 - accuracy: 0.7778 - val_loss: 0.7604 - val_accuracy: 0.6905\n",
            "Epoch 10/60\n",
            "21/21 [==============================] - 9s 451ms/step - loss: 0.6427 - accuracy: 0.7297 - val_loss: 0.7398 - val_accuracy: 0.7143\n",
            "Epoch 11/60\n",
            "21/21 [==============================] - 10s 471ms/step - loss: 0.5574 - accuracy: 0.7538 - val_loss: 0.7165 - val_accuracy: 0.6905\n",
            "Epoch 12/60\n",
            "21/21 [==============================] - 9s 452ms/step - loss: 0.4408 - accuracy: 0.8318 - val_loss: 0.6782 - val_accuracy: 0.7381\n",
            "Epoch 13/60\n",
            "21/21 [==============================] - 9s 434ms/step - loss: 0.4101 - accuracy: 0.8258 - val_loss: 0.6605 - val_accuracy: 0.7262\n",
            "Epoch 14/60\n",
            "21/21 [==============================] - 9s 454ms/step - loss: 0.4807 - accuracy: 0.7898 - val_loss: 0.6546 - val_accuracy: 0.7619\n",
            "Epoch 15/60\n",
            "21/21 [==============================] - 9s 435ms/step - loss: 0.4453 - accuracy: 0.8198 - val_loss: 0.6344 - val_accuracy: 0.7500\n",
            "Epoch 16/60\n",
            "21/21 [==============================] - 10s 474ms/step - loss: 0.4303 - accuracy: 0.8288 - val_loss: 0.6399 - val_accuracy: 0.7381\n",
            "Epoch 17/60\n",
            "21/21 [==============================] - 9s 437ms/step - loss: 0.4354 - accuracy: 0.8408 - val_loss: 0.6375 - val_accuracy: 0.7619\n",
            "Epoch 18/60\n",
            "21/21 [==============================] - 9s 456ms/step - loss: 0.4010 - accuracy: 0.8318 - val_loss: 0.6337 - val_accuracy: 0.7738\n",
            "Epoch 19/60\n",
            "21/21 [==============================] - 9s 438ms/step - loss: 0.4330 - accuracy: 0.8168 - val_loss: 0.6683 - val_accuracy: 0.7262\n",
            "Epoch 20/60\n",
            "21/21 [==============================] - 9s 438ms/step - loss: 0.2982 - accuracy: 0.8769 - val_loss: 0.6673 - val_accuracy: 0.7381\n",
            "Epoch 21/60\n",
            "21/21 [==============================] - 9s 438ms/step - loss: 0.3628 - accuracy: 0.8438 - val_loss: 0.6937 - val_accuracy: 0.7381\n",
            "Epoch 22/60\n",
            "21/21 [==============================] - 9s 439ms/step - loss: 0.4194 - accuracy: 0.8408 - val_loss: 0.7003 - val_accuracy: 0.7500\n",
            "Epoch 23/60\n",
            "21/21 [==============================] - 10s 479ms/step - loss: 0.3563 - accuracy: 0.8589 - val_loss: 0.6855 - val_accuracy: 0.7262\n",
            "Epoch 24/60\n",
            "21/21 [==============================] - 10s 477ms/step - loss: 0.3196 - accuracy: 0.8709 - val_loss: 0.7072 - val_accuracy: 0.7143\n",
            "Epoch 25/60\n",
            "21/21 [==============================] - 10s 476ms/step - loss: 0.2983 - accuracy: 0.8919 - val_loss: 0.7078 - val_accuracy: 0.7143\n",
            "Epoch 26/60\n",
            "21/21 [==============================] - 9s 439ms/step - loss: 0.2598 - accuracy: 0.8889 - val_loss: 0.7317 - val_accuracy: 0.7500\n",
            "Epoch 27/60\n",
            "21/21 [==============================] - 9s 440ms/step - loss: 0.3152 - accuracy: 0.8739 - val_loss: 0.7104 - val_accuracy: 0.7143\n",
            "Epoch 28/60\n",
            "21/21 [==============================] - 10s 477ms/step - loss: 0.2593 - accuracy: 0.9069 - val_loss: 0.7030 - val_accuracy: 0.7381\n",
            "Epoch 29/60\n",
            "21/21 [==============================] - 9s 440ms/step - loss: 0.2574 - accuracy: 0.9159 - val_loss: 0.7399 - val_accuracy: 0.7619\n",
            "Epoch 30/60\n",
            "21/21 [==============================] - 9s 440ms/step - loss: 0.2553 - accuracy: 0.9069 - val_loss: 0.7505 - val_accuracy: 0.7738\n",
            "Epoch 31/60\n",
            "21/21 [==============================] - 10s 479ms/step - loss: 0.2345 - accuracy: 0.9219 - val_loss: 0.7291 - val_accuracy: 0.7381\n",
            "Epoch 32/60\n",
            "21/21 [==============================] - 9s 441ms/step - loss: 0.2207 - accuracy: 0.9219 - val_loss: 0.7455 - val_accuracy: 0.7500\n",
            "Epoch 33/60\n",
            "21/21 [==============================] - ETA: 0s - loss: 0.2461 - accuracy: 0.8889Restoring model weights from the end of the best epoch: 18.\n",
            "21/21 [==============================] - 10s 462ms/step - loss: 0.2461 - accuracy: 0.8889 - val_loss: 0.7413 - val_accuracy: 0.7381\n",
            "Epoch 33: early stopping\n"
          ]
        }
      ]
    },
    {
      "cell_type": "code",
      "source": [
        "model.evaluate(X_test, y_test)"
      ],
      "metadata": {
        "colab": {
          "base_uri": "https://localhost:8080/"
        },
        "id": "-4P8Beux3j0O",
        "outputId": "5a86fdee-4c81-4871-c611-1792d9a3ed12"
      },
      "execution_count": 33,
      "outputs": [
        {
          "output_type": "stream",
          "name": "stdout",
          "text": [
            "4/4 [==============================] - 2s 494ms/step - loss: 0.6931 - accuracy: 0.6857\n"
          ]
        },
        {
          "output_type": "execute_result",
          "data": {
            "text/plain": [
              "[0.6930758953094482, 0.6857143044471741]"
            ]
          },
          "metadata": {},
          "execution_count": 33
        }
      ]
    },
    {
      "cell_type": "code",
      "source": [
        "test_image  = cv.imread(\"/content/sample_data/flat1.png\", 0)\n",
        "test_image2  = cv.imread(\"/content/sample_data/flat2.png\", 0)\n"
      ],
      "metadata": {
        "id": "ljTjrFkuUWFM"
      },
      "execution_count": 34,
      "outputs": []
    },
    {
      "cell_type": "code",
      "source": [
        "plt.subplot(1,2,1)\n",
        "plt.imshow(test_image)\n",
        "\n",
        "plt.subplot(1,2,2)\n",
        "plt.imshow(test_image2)"
      ],
      "metadata": {
        "colab": {
          "base_uri": "https://localhost:8080/",
          "height": 155
        },
        "id": "9WbGA_p3UYrL",
        "outputId": "a6ddbd5e-2795-40b0-a393-7ceabc232be4"
      },
      "execution_count": 35,
      "outputs": [
        {
          "output_type": "execute_result",
          "data": {
            "text/plain": [
              "<matplotlib.image.AxesImage at 0x7f7a9b6fdeb0>"
            ]
          },
          "metadata": {},
          "execution_count": 35
        },
        {
          "output_type": "display_data",
          "data": {
            "text/plain": [
              "<Figure size 432x288 with 2 Axes>"
            ],
            "image/png": "[encoded data removed]"
          },
          "metadata": {
            "needs_background": "light"
          }
        }
      ]
    },
    {
      "cell_type": "code",
      "source": [
        "test_image = preprocess_image_improved(test_image)\n",
        "test_image = np.array([(test_image)])\n",
        "test_image = test_image.reshape(1,300,300,3)"
      ],
      "metadata": {
        "id": "L7Dag9rX5jC8"
      },
      "execution_count": 36,
      "outputs": []
    }
  ],
  "metadata": {
    "kernelspec": {
      "display_name": "Python 3.10.6 64-bit ('wavewatcher')",
      "language": "python",
      "name": "python3"
    },
    "language_info": {
      "codemirror_mode": {
        "name": "ipython",
        "version": 3
      },
      "file_extension": ".py",
      "mimetype": "text/x-python",
      "name": "python",
      "nbconvert_exporter": "python",
      "pygments_lexer": "ipython3",
      "version": "3.10.6"
    },
    "orig_nbformat": 4,
    "vscode": {
      "interpreter": {
        "hash": "939b3d73e37548e6d99cf4126d755001bf5241886bd4e8de23291a3246d9befb"
      }
    },
    "colab": {
      "provenance": []
    },
    "accelerator": "GPU",
    "gpuClass": "standard"
  },
  "nbformat": 4,
  "nbformat_minor": 0
}