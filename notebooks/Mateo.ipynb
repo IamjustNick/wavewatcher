{
 "cells": [
  {
   "cell_type": "markdown",
   "metadata": {},
   "source": [
    "# Imports"
   ]
  },
  {
   "cell_type": "code",
   "execution_count": 4,
   "metadata": {},
   "outputs": [],
   "source": [
    "import numpy as np\n",
    "import pandas as pd\n",
    "from tensorflow.keras import layers, Sequential, models\n",
    "from keras.utils import to_categorical\n",
    "from keras.optimizers import Adam\n",
    "from keras.callbacks import EarlyStopping\n",
    "from keras.applications import efficientnet, vgg16"
   ]
  },
  {
   "cell_type": "markdown",
   "metadata": {},
   "source": []
  },
  {
   "cell_type": "markdown",
   "metadata": {},
   "source": [
    "# First version of the model1"
   ]
  },
  {
   "cell_type": "markdown",
   "metadata": {},
   "source": [
    "- strides define kernel moving by a fixed number of pixels in each direction, the higher the value the less we focus on each and every part of the image\n",
    "- input shape depends on preprocessing, nevertheless, in the lecture they suggest less than 256 pixels. We also agreed to make images black&white. So the firt input_shape is the largest possible. \n",
    "- we have decided not to perform padding, as we do not care about borders of our images\n",
    "- we add pooling layer after every convolutional layer in order to decrease the output shape. That is a good practice according to the lecture"
   ]
  },
  {
   "cell_type": "code",
   "execution_count": 2,
   "metadata": {},
   "outputs": [],
   "source": [
    "#There are some variables that we will be using in all of the models\n",
    "#This \n",
    "INPUT_SHAPE = (224, 224, 1)\n",
    "NUMBER_CLASSES = 3"
   ]
  },
  {
   "cell_type": "markdown",
   "metadata": {},
   "source": [
    "## Basic CNN model"
   ]
  },
  {
   "cell_type": "code",
   "execution_count": null,
   "metadata": {},
   "outputs": [],
   "source": [
    "def initialize_basic():\n",
    "    n_classes = NUMBER_CLASSES\n",
    "    model = model.Sequential()\n",
    "    \n",
    "    model.add(layers.Conv2D(64, (3,3), input_shape= INPUT_SHAPE, padding='valid', activation=\"relu\"))\n",
    "    model.add(layers.MaxPool2D(pool_size=(2,2)))\n",
    "    model.add(layers.Dropout(0.2))\n",
    "\n",
    "    model.add(layers.Conv2D(128, (2,2), padding='valid', activation=\"relu\"))\n",
    "    model.add(layers.MaxPool2D(pool_size=(2,2)))\n",
    "    model.add(layers.Dropout(0.2)) \n",
    "\n",
    "    model.add(layers.Dense(64, activation='relu'))\n",
    "    model.add(layers.Dropout(0.3))\n",
    "    model.add(layers.MaxPooling2D((2, 2))) \n",
    "    \n",
    "    \n",
    "    model.add(layers.Flatten())\n",
    "    model.add(layers.Dense(128, activation = \"relu\"))\n",
    "    model.add(layers.Dropout(0.4))\n",
    "    model.add(layers.Dense(n_classes, activation = \"softmax\"))\n",
    "    \n",
    "    return model"
   ]
  },
  {
   "cell_type": "markdown",
   "metadata": {},
   "source": [
    "## Model compiling function"
   ]
  },
  {
   "cell_type": "code",
   "execution_count": 3,
   "metadata": {},
   "outputs": [],
   "source": [
    "def compile_model(model, learning_rate=1e-4):\n",
    "    model.compile(loss = \"categorical_crossentropy\",\n",
    "                            optimizer = Adam(learning_rate=learning_rate),\n",
    "                            metrics = [\"recall\"])\n",
    "    return model"
   ]
  },
  {
   "cell_type": "markdown",
   "metadata": {},
   "source": [
    "## Using Transfer Learning with VGG16"
   ]
  },
  {
   "cell_type": "code",
   "execution_count": 5,
   "metadata": {},
   "outputs": [],
   "source": [
    "def initialize_vgg():\n",
    "    n_classes = NUMBER_CLASSES\n",
    "    model = model.Sequential()\n",
    "    model.add(vgg16.VGG16(weights=\"imagenet\",\n",
    "                    include_top=False,\n",
    "                    input_shape= INPUT_SHAPE,\n",
    "                    classes = n_classes))\n",
    "    model.add(layers.GlobalAveragePooling2D())\n",
    "    model.add(layers.Flatten())\n",
    "    model.add(layers.BatchNormalization())\n",
    "    model.add(layers.Dense(128, activation = \"relu\"))\n",
    "    \n",
    "    # model.add(layers.BatchNormalization())\n",
    "    # model.add(layers.Dense(1024, activation = \"relu\"))\n",
    "    # model.add(layers.BatchNormalization())\n",
    "    # model.add(layers.Dense(256, activation = \"relu\"))\n",
    "    # model.add(layers.BatchNormalization())\n",
    "    \n",
    "    model.add(layers.Dense(n_classes, activation = \"softmax\"))\n",
    "    model.layers[0].trainable = False\n",
    "    return model"
   ]
  },
  {
   "cell_type": "markdown",
   "metadata": {},
   "source": [
    "## Using Transfer Learing with EfficientNetB7"
   ]
  },
  {
   "cell_type": "code",
   "execution_count": null,
   "metadata": {},
   "outputs": [],
   "source": [
    "def initialize_efficientnet():\n",
    "    n_classes = NUMBER_CLASSES\n",
    "    model = models.Sequential()\n",
    "    model.add(\n",
    "        efficientnet.EfficientNetB7(weights = 'imagenet',\n",
    "                                     include_top = False,\n",
    "                                     classes = n_classes,\n",
    "                                     input_shape = INPUT_SHAPE)\n",
    "    )\n",
    "    model.add(layers.GlobalAveragePooling2D())\n",
    "    model.add(layers.Flatten())\n",
    "    model.add(layers.BatchNormalization())\n",
    "    model.add(layers.Dense(128, activation = \"relu\"))\n",
    "    \n",
    "    # model.add(layers.BatchNormalization())\n",
    "    # model.add(layers.Dense(1024, activation = \"relu\"))\n",
    "    # model.add(layers.BatchNormalization())\n",
    "    # model.add(layers.Dense(256, activation = \"relu\"))\n",
    "    # model.add(layers.BatchNormalization())\n",
    "\n",
    "    model.add(layers.Dense(n_classes, activation = \"softmax\"))\n",
    "    model.layers[0].trainable = False\n",
    "    return model"
   ]
  },
  {
   "cell_type": "markdown",
   "metadata": {},
   "source": [
    "## Training the model"
   ]
  },
  {
   "cell_type": "code",
   "execution_count": null,
   "metadata": {},
   "outputs": [],
   "source": [
    "#We still do not have data, so it is commented out\n",
    "#model.fit(X , y_cat , epochs = 15, batch_size = 32, callbacks = [es])"
   ]
  }
 ],
 "metadata": {
  "kernelspec": {
   "display_name": "Python 3.10.6 64-bit ('shims')",
   "language": "python",
   "name": "python3"
  },
  "language_info": {
   "codemirror_mode": {
    "name": "ipython",
    "version": 3
   },
   "file_extension": ".py",
   "mimetype": "text/x-python",
   "name": "python",
   "nbconvert_exporter": "python",
   "pygments_lexer": "ipython3",
   "version": "3.10.6"
  },
  "orig_nbformat": 4,
  "vscode": {
   "interpreter": {
    "hash": "84d9a2387a2e320b0513647598f53aca0d3d105be8af92236c422cd6b257ff2d"
   }
  }
 },
 "nbformat": 4,
 "nbformat_minor": 2
}
