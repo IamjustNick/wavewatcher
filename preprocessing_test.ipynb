{
 "cells": [
  {
   "cell_type": "markdown",
   "metadata": {},
   "source": [
    "First we will load a 100 images to test the preprocessing speed"
   ]
  },
  {
   "cell_type": "code",
   "execution_count": 88,
   "metadata": {},
   "outputs": [],
   "source": [
    "import cv2 as cv\n",
    "import matplotlib.pyplot as plt\n",
    "import skimage\n",
    "import glob \n",
    "import os \n",
    "import random\n",
    "import numpy as np\n",
    "import pandas as pd\n",
    "from PIL import ImageFile\n",
    "from sklearn.model_selection import train_test_split\n",
    "\n",
    "#what is the role of truncated images?\n",
    "ImageFile.LOAD_TRUNCATED_IMAGES = True\n",
    "\n"
   ]
  },
  {
   "cell_type": "code",
   "execution_count": 89,
   "metadata": {},
   "outputs": [],
   "source": [
    "import numpy as np\n",
    "import pandas as pd\n",
    "from tensorflow.keras import layers, Sequential, models\n",
    "from keras.utils import to_categorical\n",
    "from keras.optimizers import Adam\n",
    "from keras.callbacks import EarlyStopping\n",
    "from keras.applications import efficientnet, vgg16"
   ]
  },
  {
   "cell_type": "markdown",
   "metadata": {},
   "source": [
    "The preprocessing below works. It has been commented out to replace it with a better one. "
   ]
  },
  {
   "cell_type": "code",
   "execution_count": 90,
   "metadata": {},
   "outputs": [],
   "source": [
    "def preprocess_image(image):\n",
    "    resized = cv.resize(image,(300,300),interpolation = cv.INTER_AREA)\n",
    "    img = cv.medianBlur(resized,5)\n",
    "    ret,th1 = cv.threshold(img,127,255,cv.THRESH_BINARY)\n",
    "    th2 = cv.adaptiveThreshold(img,255,cv.ADAPTIVE_THRESH_MEAN_C,\\\n",
    "            cv.THRESH_BINARY,11,2)\n",
    "    th3 = cv.adaptiveThreshold(img,255,cv.ADAPTIVE_THRESH_GAUSSIAN_C,\\\n",
    "            cv.THRESH_BINARY,15,2)\n",
    "    images = [th1, th2, th3, img]\n",
    "\n",
    "    \n",
    "    return images\n",
    "    "
   ]
  },
  {
   "cell_type": "code",
   "execution_count": 91,
   "metadata": {},
   "outputs": [],
   "source": [
    "def preprocess_image_improved(image,reshape_size):\n",
    "    if image.shape == (570, 1015, 4):\n",
    "        image = cv.cvtColor(image, cv.COLOR_BGRA2BGR)\n",
    "        cropped = image[250:-100,100:]\n",
    "        resized = cv.resize(cropped,(reshape_size,reshape_size),interpolation = cv.INTER_AREA)\n",
    "        gray_img = np.uint8((cv.cvtColor(resized, cv.COLOR_BGR2GRAY))*250)\n",
    "        edges = cv.Canny(gray_img,50,50)\n",
    "        gaussian = cv.adaptiveThreshold(gray_img,255,cv.ADAPTIVE_THRESH_GAUSSIAN_C,\\\n",
    "            cv.THRESH_BINARY,13,3)\n",
    "        (T, thresh1) = cv.threshold(resized, 0.4, 0.6,\n",
    "                            cv.THRESH_BINARY_INV)\n",
    "        (T, thresh) = cv.threshold(resized, 0.6, 0.9, cv.THRESH_BINARY)\n",
    "        images = [edges,gaussian,thresh1.T[0],thresh1.T[1],thresh1.T[2],thresh.T[0],thresh.T[1],thresh.T[2]]\n",
    "        images[0] = images[0]/255\n",
    "        images[1] = images[1]/255\n",
    "        return images\n",
    "    \n",
    "    elif image.shape == (582, 1034, 4):\n",
    "        image = cv.cvtColor(image, cv.COLOR_BGRA2BGR)\n",
    "        cropped = image[60:500,:]\n",
    "        resized = cv.resize(cropped,(reshape_size,reshape_size),interpolation = cv.INTER_AREA)\n",
    "        gray_img = np.uint8((cv.cvtColor(resized, cv.COLOR_BGR2GRAY))*250)\n",
    "        edges = cv.Canny(gray_img,50,50)\n",
    "        gaussian = cv.adaptiveThreshold(gray_img,255,cv.ADAPTIVE_THRESH_GAUSSIAN_C,\\\n",
    "            cv.THRESH_BINARY,13,3)\n",
    "        (T, thresh1) = cv.threshold( resized, 0.4, 0.6,\n",
    "                            cv.THRESH_BINARY_INV)\n",
    "        (T, thresh) = cv.threshold(resized, 0.6, 0.9, cv.THRESH_BINARY)\n",
    "        images = [edges,gaussian,thresh1.T[0],thresh1.T[1],thresh1.T[2],thresh.T[0],thresh.T[1],thresh.T[2]]\n",
    "        images[0] = images[0]/255\n",
    "        images[1] = images[1]/255\n",
    "        return images\n",
    "    \n",
    "    elif image.shape == (624, 1200, 4):\n",
    "        image = cv.cvtColor(image, cv.COLOR_BGRA2BGR)\n",
    "        cropped = image[150:,:]\n",
    "        resized = cv.resize(cropped,(reshape_size,reshape_size),interpolation = cv.INTER_AREA)\n",
    "        gray_img = np.uint8((cv.cvtColor(resized, cv.COLOR_BGR2GRAY))*250)\n",
    "        edges = cv.Canny(gray_img,100,100)\n",
    "        gaussian = cv.adaptiveThreshold(gray_img,255,cv.ADAPTIVE_THRESH_GAUSSIAN_C,\\\n",
    "            cv.THRESH_BINARY,11,3)\n",
    "        (T, thresh1) = cv.threshold( resized, 0.4, 0.6,\n",
    "                            cv.THRESH_BINARY_INV)\n",
    "        (T, thresh) = cv.threshold(resized, 0.6, 0.9, cv.THRESH_BINARY)\n",
    "        images = [edges,gaussian,thresh1.T[0],thresh1.T[1],thresh1.T[2],thresh.T[0],thresh.T[1],thresh.T[2]]\n",
    "        images[0] = images[0]/255\n",
    "        images[1] = images[1]/255\n",
    "        return images\n",
    "    \n",
    "    #EL PORTO IMAGES FOR GOOD ARE FAILING SYSTEMATICALLY\n",
    "    elif image.shape == (624, 1110, 4):\n",
    "        image = cv.cvtColor(image, cv.COLOR_BGRA2BGR)\n",
    "        #changed this to -100 instead of -170 for debugging\n",
    "        cropped = image[350:-100,:]\n",
    "        resized = cv.resize(cropped,(reshape_size,reshape_size),interpolation = cv.INTER_AREA)\n",
    "        gray_img = np.uint8((cv.cvtColor(resized, cv.COLOR_BGR2GRAY))*250)\n",
    "        edges = cv.Canny(gray_img,50,250)\n",
    "        gaussian = cv.adaptiveThreshold(gray_img,255,cv.ADAPTIVE_THRESH_GAUSSIAN_C,\\\n",
    "            cv.THRESH_BINARY,9,5)\n",
    "        (T, thresh1) = cv.threshold( resized, 0.4, 0.6,\n",
    "                            cv.THRESH_BINARY_INV)\n",
    "        (T, thresh) = cv.threshold(resized, 0.6, 0.9, cv.THRESH_BINARY)\n",
    "        images = [edges,gaussian,thresh1.T[0],thresh1.T[1],thresh1.T[2],thresh.T[0],thresh.T[1],thresh.T[2]]\n",
    "        images[0] = images[0]/255\n",
    "        images[1] = images[1]/255\n",
    "    \n",
    "    WE HAVE THROWN ALL OF THOSE IN HERE FOR NOW  \n",
    "    else:\n",
    "        image = cv.cvtColor(image, cv.COLOR_BGRA2BGR)\n",
    "        cropped = image[150:,:]\n",
    "        resized = cv.resize(cropped,(reshape_size,reshape_size),interpolation = cv.INTER_AREA)\n",
    "        gray_img = np.uint8((cv.cvtColor(resized, cv.COLOR_BGR2GRAY))*250)\n",
    "        edges = cv.Canny(gray_img,100,100)\n",
    "        gaussian = cv.adaptiveThreshold(gray_img,255,cv.ADAPTIVE_THRESH_GAUSSIAN_C,\\\n",
    "            cv.THRESH_BINARY,11,3)\n",
    "        (T, thresh1) = cv.threshold( resized, 0.4, 0.6,\n",
    "                            cv.THRESH_BINARY_INV)\n",
    "        (T, thresh) = cv.threshold(resized, 0.6, 0.9, cv.THRESH_BINARY)\n",
    "        images = [edges,gaussian,thresh1.T[0],thresh1.T[1],thresh1.T[2],thresh.T[0],thresh.T[1],thresh.T[2]]\n",
    "        images[0] = images[0]/255\n",
    "        images[1] = images[1]/255\n",
    "        \n",
    "        return images\n"
   ]
  },
  {
   "cell_type": "code",
   "execution_count": 92,
   "metadata": {},
   "outputs": [],
   "source": [
    "test_improved = plt.imread(\"/Users/nicolasmartinez-geijovila/code/IamjustNick/wavewatcher/raw_data/Flat/NigranBee__ocean__2022-11-28_16:33:30__175.png\")"
   ]
  },
  {
   "cell_type": "code",
   "execution_count": 93,
   "metadata": {},
   "outputs": [],
   "source": [
    "cool = preprocess_image_improved(test_improved,300)"
   ]
  },
  {
   "cell_type": "code",
   "execution_count": 85,
   "metadata": {},
   "outputs": [],
   "source": [
    "# test_image = plt.imread(\"/Users/nicolasmartinez-geijovila/code/IamjustNick/wavewatcher/raw_data/Chaotic/HawaiBee__ocean__2022-11-24_18:07:10__2.png\")\n",
    "\n",
    "# y = preprocess_image(test_image,300)"
   ]
  },
  {
   "cell_type": "code",
   "execution_count": 94,
   "metadata": {},
   "outputs": [
    {
     "name": "stdout",
     "output_type": "stream",
     "text": [
      "['Flat', 'Chaotic', 'Good']\n",
      "Preprocessing folder Flat...\n",
      "Preprocessing folder Chaotic...\n",
      "Preprocessing folder Good...\n"
     ]
    },
    {
     "data": {
      "text/plain": [
       "((522, 300, 300, 8), (522,))"
      ]
     },
     "execution_count": 94,
     "metadata": {},
     "output_type": "execute_result"
    }
   ],
   "source": [
    "X = []\n",
    "y = []\n",
    "idx = 0\n",
    "\n",
    "\n",
    "for root , dirs , files in os.walk(\"raw_data\"):\n",
    "    if dirs:\n",
    "        parent = root\n",
    "        folders = dirs\n",
    "        print(folders)\n",
    "\n",
    "    if files:\n",
    "        print(f\"Preprocessing folder {folders[idx]}...\")\n",
    "        failed = [] \n",
    "        for file in np.random.choice(np.array(files),len(files), replace = False):\n",
    "            try:\n",
    "                original_image = plt.imread(os.path.join(parent , folders[idx], file))\n",
    "                \n",
    "                     \n",
    "                processed_image = preprocess_image_improved(original_image,300)\n",
    "                \n",
    "                if len(processed_image) < 2:\n",
    "                    print(f\"problemita in {os.path.join(parent , folders[idx], file)}\")\n",
    "                else:\n",
    "                    X.append(np.array(processed_image).T)\n",
    "                    y.append(idx)\n",
    "                #The print below was just to check the value for each situation\n",
    "                #print(idx)\n",
    "            \n",
    "            except Exception as e:\n",
    "                 print(\"Detected bad image!\")\n",
    "                 failed.append(os.path.join(parent , folders[idx], file))\n",
    "                 continue\n",
    "        \n",
    "        idx += 1\n",
    "        \n",
    "X = np.array(X)\n",
    "y = np.array(y)\n",
    "X.shape , y.shape"
   ]
  },
  {
   "cell_type": "code",
   "execution_count": 87,
   "metadata": {},
   "outputs": [
    {
     "ename": "IndexError",
     "evalue": "list index out of range",
     "output_type": "error",
     "traceback": [
      "\u001b[0;31m---------------------------------------------------------------------------\u001b[0m",
      "\u001b[0;31mIndexError\u001b[0m                                Traceback (most recent call last)",
      "Cell \u001b[0;32mIn [87], line 1\u001b[0m\n\u001b[0;32m----> 1\u001b[0m plt\u001b[39m.\u001b[39mimshow(plt\u001b[39m.\u001b[39mimread(failed[\u001b[39m0\u001b[39;49m]))\n\u001b[1;32m      3\u001b[0m a \u001b[39m=\u001b[39mpreprocess_image_improved(plt\u001b[39m.\u001b[39mimread(failed[\u001b[39m0\u001b[39m]),\u001b[39m300\u001b[39m)\n",
      "\u001b[0;31mIndexError\u001b[0m: list index out of range"
     ]
    }
   ],
   "source": [
    "\n",
    "plt.imshow(plt.imread(failed[0]))\n",
    "\n",
    "a =preprocess_image_improved(plt.imread(failed[0]),300)"
   ]
  },
  {
   "cell_type": "code",
   "execution_count": 81,
   "metadata": {},
   "outputs": [
    {
     "name": "stdout",
     "output_type": "stream",
     "text": [
      "None\n"
     ]
    }
   ],
   "source": [
    "print(a)"
   ]
  },
  {
   "cell_type": "code",
   "execution_count": 31,
   "metadata": {},
   "outputs": [
    {
     "name": "stdout",
     "output_type": "stream",
     "text": [
      "()\n",
      "()\n",
      "()\n",
      "()\n",
      "()\n",
      "()\n",
      "()\n",
      "()\n",
      "()\n",
      "()\n",
      "()\n",
      "()\n",
      "()\n",
      "()\n",
      "()\n",
      "()\n",
      "()\n",
      "()\n",
      "()\n",
      "()\n",
      "()\n",
      "()\n",
      "()\n",
      "()\n",
      "()\n",
      "()\n",
      "()\n",
      "()\n",
      "()\n",
      "()\n",
      "()\n",
      "()\n",
      "()\n",
      "()\n",
      "()\n",
      "()\n",
      "()\n",
      "()\n",
      "()\n",
      "()\n",
      "()\n",
      "()\n",
      "()\n",
      "()\n",
      "()\n",
      "()\n",
      "()\n",
      "()\n",
      "()\n",
      "()\n",
      "()\n",
      "()\n",
      "()\n",
      "()\n",
      "()\n",
      "()\n",
      "()\n",
      "()\n",
      "()\n",
      "()\n",
      "()\n",
      "()\n",
      "()\n",
      "()\n",
      "()\n",
      "()\n",
      "()\n",
      "()\n",
      "()\n",
      "()\n",
      "()\n",
      "()\n",
      "()\n",
      "()\n",
      "()\n",
      "()\n",
      "()\n",
      "()\n",
      "()\n",
      "()\n",
      "()\n",
      "()\n",
      "()\n",
      "()\n",
      "()\n",
      "()\n",
      "()\n",
      "()\n",
      "88\n"
     ]
    }
   ],
   "source": [
    "# j = 0\n",
    "\n",
    "# for i in range(522):\n",
    "#     if (X[i]).shape != (300,300,8):\n",
    "#         print (X[i].shape)\n",
    "#         j += 1\n",
    "# print(j)"
   ]
  },
  {
   "cell_type": "code",
   "execution_count": 9,
   "metadata": {},
   "outputs": [
    {
     "data": {
      "text/plain": [
       "434"
      ]
     },
     "execution_count": 9,
     "metadata": {},
     "output_type": "execute_result"
    }
   ],
   "source": [
    "len(X)"
   ]
  },
  {
   "cell_type": "markdown",
   "metadata": {},
   "source": [
    "The code below is a clue from Nicole about what can we do to fix X shape."
   ]
  },
  {
   "cell_type": "code",
   "execution_count": null,
   "metadata": {},
   "outputs": [
    {
     "data": {
      "text/plain": [
       "array([[[1, 2, 3],\n",
       "        [3, 4, 5]],\n",
       "\n",
       "       [[1, 2, 3],\n",
       "        [2, 3, 4]]])"
      ]
     },
     "execution_count": 37,
     "metadata": {},
     "output_type": "execute_result"
    },
    {
     "ename": "",
     "evalue": "",
     "output_type": "error",
     "traceback": [
      "\u001b[1;31mnotebook controller is DISPOSED. \n",
      "\u001b[1;31mView Jupyter <a href='command:jupyter.viewOutput'>log</a> for further details."
     ]
    },
    {
     "ename": "",
     "evalue": "",
     "output_type": "error",
     "traceback": [
      "\u001b[1;31mnotebook controller is DISPOSED. \n",
      "\u001b[1;31mView Jupyter <a href='command:jupyter.viewOutput'>log</a> for further details."
     ]
    },
    {
     "ename": "",
     "evalue": "",
     "output_type": "error",
     "traceback": [
      "\u001b[1;31mnotebook controller is DISPOSED. \n",
      "\u001b[1;31mView Jupyter <a href='command:jupyter.viewOutput'>log</a> for further details."
     ]
    }
   ],
   "source": [
    "#np.append( np.array([[1,2,3],[3,4,5]]) , np.array([[1,2,3],[2,3,4]]) ,axis = 0).reshape(2,2,3)"
   ]
  },
  {
   "cell_type": "code",
   "execution_count": null,
   "metadata": {},
   "outputs": [
    {
     "data": {
      "text/plain": [
       "(524,)"
      ]
     },
     "execution_count": 18,
     "metadata": {},
     "output_type": "execute_result"
    },
    {
     "ename": "",
     "evalue": "",
     "output_type": "error",
     "traceback": [
      "\u001b[1;31mnotebook controller is DISPOSED. \n",
      "\u001b[1;31mView Jupyter <a href='command:jupyter.viewOutput'>log</a> for further details."
     ]
    },
    {
     "ename": "",
     "evalue": "",
     "output_type": "error",
     "traceback": [
      "\u001b[1;31mnotebook controller is DISPOSED. \n",
      "\u001b[1;31mView Jupyter <a href='command:jupyter.viewOutput'>log</a> for further details."
     ]
    },
    {
     "ename": "",
     "evalue": "",
     "output_type": "error",
     "traceback": [
      "\u001b[1;31mnotebook controller is DISPOSED. \n",
      "\u001b[1;31mView Jupyter <a href='command:jupyter.viewOutput'>log</a> for further details."
     ]
    }
   ],
   "source": [
    "X.shape"
   ]
  },
  {
   "cell_type": "markdown",
   "metadata": {},
   "source": [
    "Let's augment the little data we have. Considering the nature of the data heavy rotations are not advised."
   ]
  },
  {
   "cell_type": "code",
   "execution_count": null,
   "metadata": {},
   "outputs": [
    {
     "ename": "",
     "evalue": "",
     "output_type": "error",
     "traceback": [
      "\u001b[1;31mnotebook controller is DISPOSED. \n",
      "\u001b[1;31mView Jupyter <a href='command:jupyter.viewOutput'>log</a> for further details."
     ]
    },
    {
     "ename": "",
     "evalue": "",
     "output_type": "error",
     "traceback": [
      "\u001b[1;31mnotebook controller is DISPOSED. \n",
      "\u001b[1;31mView Jupyter <a href='command:jupyter.viewOutput'>log</a> for further details."
     ]
    },
    {
     "ename": "",
     "evalue": "",
     "output_type": "error",
     "traceback": [
      "\u001b[1;31mnotebook controller is DISPOSED. \n",
      "\u001b[1;31mView Jupyter <a href='command:jupyter.viewOutput'>log</a> for further details."
     ]
    }
   ],
   "source": [
    "from tensorflow.keras.preprocessing.image import ImageDataGenerator\n",
    "\n",
    "datagen = ImageDataGenerator(\n",
    "    featurewise_center = False,\n",
    "    featurewise_std_normalization = False,\n",
    "    rotation_range = 10,\n",
    "    width_shift_range = 0.1,\n",
    "    height_shift_range = 0.1,\n",
    "    horizontal_flip = True,\n",
    "    zoom_range = (0.8, 1.2),\n",
    "    #I added brightness changes, I think they are relevant to our task\n",
    "    brightness_range =(0.5,1)\n",
    "    ) "
   ]
  },
  {
   "cell_type": "code",
   "execution_count": null,
   "metadata": {},
   "outputs": [
    {
     "ename": "",
     "evalue": "",
     "output_type": "error",
     "traceback": [
      "\u001b[1;31mnotebook controller is DISPOSED. \n",
      "\u001b[1;31mView Jupyter <a href='command:jupyter.viewOutput'>log</a> for further details."
     ]
    },
    {
     "ename": "",
     "evalue": "",
     "output_type": "error",
     "traceback": [
      "\u001b[1;31mnotebook controller is DISPOSED. \n",
      "\u001b[1;31mView Jupyter <a href='command:jupyter.viewOutput'>log</a> for further details."
     ]
    },
    {
     "ename": "",
     "evalue": "",
     "output_type": "error",
     "traceback": [
      "\u001b[1;31mnotebook controller is DISPOSED. \n",
      "\u001b[1;31mView Jupyter <a href='command:jupyter.viewOutput'>log</a> for further details."
     ]
    }
   ],
   "source": []
  },
  {
   "cell_type": "code",
   "execution_count": 95,
   "metadata": {},
   "outputs": [],
   "source": [
    "# INPUT_SHAPE = (4, 250, 250)\n",
    "NUMBER_CLASSES = 3"
   ]
  },
  {
   "cell_type": "code",
   "execution_count": 96,
   "metadata": {},
   "outputs": [],
   "source": [
    "X.shape\n",
    "y_cat = to_categorical(y)"
   ]
  },
  {
   "cell_type": "code",
   "execution_count": 97,
   "metadata": {},
   "outputs": [],
   "source": [
    "X_train, X_test, y_train, y_test = train_test_split(X, y_cat, test_size=0.30)"
   ]
  },
  {
   "cell_type": "markdown",
   "metadata": {},
   "source": [
    "The model below works with the first preprocessing, there seem to be some serious issues when trying to apply any kind of max pooling though."
   ]
  },
  {
   "cell_type": "code",
   "execution_count": 98,
   "metadata": {},
   "outputs": [],
   "source": [
    "def initialize_basic():\n",
    "    #Create an empty template\n",
    "    model = models.Sequential()\n",
    "    \n",
    "    model.add(layers.Conv2D(64, (3,3), input_shape= (300,300,8), padding='same', activation=\"relu\"))\n",
    "    \n",
    "    model.add(layers.MaxPool2D(pool_size=(2,2)))\n",
    "\n",
    "    model.add(layers.Conv2D(32, (2,2), activation=\"relu\")) \n",
    "    model.add(layers.Flatten())\n",
    "    model.add(layers.Dense(128, activation = \"relu\"))\n",
    "    model.add(layers.Dropout(0.3))\n",
    "    model.add(layers.Dense(3, activation = \"softmax\"))\n",
    "    return model\n"
   ]
  },
  {
   "cell_type": "code",
   "execution_count": 99,
   "metadata": {},
   "outputs": [],
   "source": [
    "def compile_model(model, learning_rate=1e-4):\n",
    "    model.compile(loss = \"categorical_crossentropy\",\n",
    "                            optimizer = Adam(learning_rate=learning_rate),\n",
    "                            metrics = [\"accuracy\"])\n",
    "    return model"
   ]
  },
  {
   "cell_type": "code",
   "execution_count": 100,
   "metadata": {},
   "outputs": [],
   "source": [
    "test_model = initialize_basic()"
   ]
  },
  {
   "cell_type": "code",
   "execution_count": 101,
   "metadata": {},
   "outputs": [
    {
     "data": {
      "text/plain": [
       "<keras.engine.sequential.Sequential at 0x1458a6500>"
      ]
     },
     "execution_count": 101,
     "metadata": {},
     "output_type": "execute_result"
    }
   ],
   "source": [
    "compile_model(test_model)\n"
   ]
  },
  {
   "cell_type": "code",
   "execution_count": 102,
   "metadata": {},
   "outputs": [
    {
     "name": "stdout",
     "output_type": "stream",
     "text": [
      "Epoch 1/64\n",
      "5/5 [==============================] - 13s 2s/step - loss: 5.2667 - accuracy: 0.3493 - val_loss: 2.4895 - val_accuracy: 0.3973\n",
      "Epoch 2/64\n",
      "5/5 [==============================] - 12s 2s/step - loss: 2.1012 - accuracy: 0.5000 - val_loss: 1.0294 - val_accuracy: 0.5616\n",
      "Epoch 3/64\n",
      "5/5 [==============================] - 11s 2s/step - loss: 1.2509 - accuracy: 0.5719 - val_loss: 1.8542 - val_accuracy: 0.4932\n",
      "Epoch 4/64\n",
      "5/5 [==============================] - 13s 2s/step - loss: 0.9940 - accuracy: 0.6541 - val_loss: 0.9452 - val_accuracy: 0.5890\n",
      "Epoch 5/64\n",
      "5/5 [==============================] - 11s 2s/step - loss: 0.7530 - accuracy: 0.6986 - val_loss: 1.2769 - val_accuracy: 0.5479\n",
      "Epoch 6/64\n",
      "5/5 [==============================] - 11s 2s/step - loss: 0.6233 - accuracy: 0.7329 - val_loss: 0.7644 - val_accuracy: 0.6027\n",
      "Epoch 7/64\n",
      "5/5 [==============================] - 11s 2s/step - loss: 0.4854 - accuracy: 0.8048 - val_loss: 0.9566 - val_accuracy: 0.5753\n",
      "Epoch 8/64\n",
      "5/5 [==============================] - 11s 2s/step - loss: 0.4420 - accuracy: 0.8048 - val_loss: 0.7601 - val_accuracy: 0.6438\n",
      "Epoch 9/64\n",
      "5/5 [==============================] - 11s 2s/step - loss: 0.3916 - accuracy: 0.8562 - val_loss: 0.9175 - val_accuracy: 0.6301\n",
      "Epoch 10/64\n",
      "5/5 [==============================] - 11s 2s/step - loss: 0.3045 - accuracy: 0.8836 - val_loss: 0.8129 - val_accuracy: 0.6712\n",
      "Epoch 11/64\n",
      "5/5 [==============================] - 11s 2s/step - loss: 0.2628 - accuracy: 0.9212 - val_loss: 0.8435 - val_accuracy: 0.6712\n"
     ]
    },
    {
     "data": {
      "text/plain": [
       "<keras.callbacks.History at 0x1458bf2b0>"
      ]
     },
     "execution_count": 102,
     "metadata": {},
     "output_type": "execute_result"
    }
   ],
   "source": [
    "es = EarlyStopping(patience = 3,restore_best_weights= True)\n",
    "test_model.fit(X_train , y_train ,callbacks = [es] ,validation_split = 0.2, epochs = 64, batch_size = 64)"
   ]
  },
  {
   "cell_type": "code",
   "execution_count": 103,
   "metadata": {},
   "outputs": [
    {
     "name": "stdout",
     "output_type": "stream",
     "text": [
      "5/5 [==============================] - 1s 218ms/step - loss: 0.8632 - accuracy: 0.6306\n"
     ]
    },
    {
     "data": {
      "text/plain": [
       "[0.8631781339645386, 0.6305732727050781]"
      ]
     },
     "execution_count": 103,
     "metadata": {},
     "output_type": "execute_result"
    }
   ],
   "source": [
    "test_model.evaluate(X_test,y_test)"
   ]
  },
  {
   "cell_type": "code",
   "execution_count": null,
   "metadata": {},
   "outputs": [
    {
     "ename": "",
     "evalue": "",
     "output_type": "error",
     "traceback": [
      "\u001b[1;31mnotebook controller is DISPOSED. \n",
      "\u001b[1;31mView Jupyter <a href='command:jupyter.viewOutput'>log</a> for further details."
     ]
    },
    {
     "ename": "",
     "evalue": "",
     "output_type": "error",
     "traceback": [
      "\u001b[1;31mnotebook controller is DISPOSED. \n",
      "\u001b[1;31mView Jupyter <a href='command:jupyter.viewOutput'>log</a> for further details."
     ]
    },
    {
     "ename": "",
     "evalue": "",
     "output_type": "error",
     "traceback": [
      "\u001b[1;31mnotebook controller is DISPOSED. \n",
      "\u001b[1;31mView Jupyter <a href='command:jupyter.viewOutput'>log</a> for further details."
     ]
    }
   ],
   "source": [
    "def initialize_improved():\n",
    "    #Create an empty template\n",
    "    model = models.Sequential()\n",
    "    \n",
    "    model.add(layers.Conv2D(64, (3,3), input_shape= (4,300,300), padding='same', activation=\"relu\"))\n",
    "    #Max pooling layers have been creating some problems. I am playing with the padding argument to solve the dimensions issue.\n",
    "    #model.add(layers.Conv2D(32, (2,2), activation=\"relu\")) \n",
    "    model.add(layers.MaxPool2D(pool_size=(2,2),padding=\"valid\"))\n",
    "    #Second convolutional layer \n",
    "    model.add(layers.Conv2D(32, (2,2), activation=\"relu\")) \n",
    "    \n",
    "    model.add(layers.Flatten())\n",
    "    \n",
    "    #Deep learning layers\n",
    "    #model.add(layers.Dense(64, activation = \"relu\"))\n",
    "    #model.add(layers.Dense(32, activation = \"relu\"))\n",
    "    model.add(layers.Dense(300, activation = \"relu\"))\n",
    "    #model.add(layers.Dropout(0.2))\n",
    "    model.add(layers.Dense(3, activation = \"softmax\"))\n",
    "    return model\n",
    "\n",
    "def compile_model(model, learning_rate=1e-4):\n",
    "    model.compile(loss = \"categorical_crossentropy\",\n",
    "                            optimizer = Adam(learning_rate=learning_rate),\n",
    "                            metrics = [\"accuracy\"])\n",
    "    return model\n"
   ]
  },
  {
   "cell_type": "code",
   "execution_count": null,
   "metadata": {},
   "outputs": [
    {
     "data": {
      "text/plain": [
       "<keras.engine.sequential.Sequential at 0x176f285b0>"
      ]
     },
     "execution_count": 39,
     "metadata": {},
     "output_type": "execute_result"
    },
    {
     "ename": "",
     "evalue": "",
     "output_type": "error",
     "traceback": [
      "\u001b[1;31mnotebook controller is DISPOSED. \n",
      "\u001b[1;31mView Jupyter <a href='command:jupyter.viewOutput'>log</a> for further details."
     ]
    },
    {
     "ename": "",
     "evalue": "",
     "output_type": "error",
     "traceback": [
      "\u001b[1;31mnotebook controller is DISPOSED. \n",
      "\u001b[1;31mView Jupyter <a href='command:jupyter.viewOutput'>log</a> for further details."
     ]
    },
    {
     "ename": "",
     "evalue": "",
     "output_type": "error",
     "traceback": [
      "\u001b[1;31mnotebook controller is DISPOSED. \n",
      "\u001b[1;31mView Jupyter <a href='command:jupyter.viewOutput'>log</a> for further details."
     ]
    }
   ],
   "source": [
    "improved_model = initialize_improved()\n",
    "compile_model(improved_model)"
   ]
  },
  {
   "cell_type": "code",
   "execution_count": null,
   "metadata": {},
   "outputs": [
    {
     "name": "stdout",
     "output_type": "stream",
     "text": [
      "Epoch 1/64\n",
      "5/5 [==============================] - 2s 304ms/step - loss: 1.1605 - accuracy: 0.3390 - val_loss: 1.0945 - val_accuracy: 0.4189\n",
      "Epoch 2/64\n",
      "5/5 [==============================] - 1s 256ms/step - loss: 1.0978 - accuracy: 0.3527 - val_loss: 1.1019 - val_accuracy: 0.4189\n",
      "Epoch 3/64\n",
      "5/5 [==============================] - 1s 262ms/step - loss: 1.0681 - accuracy: 0.4486 - val_loss: 1.0804 - val_accuracy: 0.3784\n",
      "Epoch 4/64\n",
      "5/5 [==============================] - 1s 255ms/step - loss: 1.0124 - accuracy: 0.5240 - val_loss: 1.1022 - val_accuracy: 0.4324\n",
      "Epoch 5/64\n",
      "5/5 [==============================] - 1s 255ms/step - loss: 0.9834 - accuracy: 0.5342 - val_loss: 1.0588 - val_accuracy: 0.4730\n",
      "Epoch 6/64\n",
      "5/5 [==============================] - 1s 266ms/step - loss: 0.9312 - accuracy: 0.6027 - val_loss: 1.0535 - val_accuracy: 0.4459\n",
      "Epoch 7/64\n",
      "5/5 [==============================] - 1s 290ms/step - loss: 0.8904 - accuracy: 0.6267 - val_loss: 1.0337 - val_accuracy: 0.4730\n",
      "Epoch 8/64\n",
      "5/5 [==============================] - 1s 253ms/step - loss: 0.8265 - accuracy: 0.7055 - val_loss: 1.0177 - val_accuracy: 0.4595\n",
      "Epoch 9/64\n",
      "5/5 [==============================] - 1s 265ms/step - loss: 0.7995 - accuracy: 0.7192 - val_loss: 0.9580 - val_accuracy: 0.5270\n",
      "Epoch 10/64\n",
      "5/5 [==============================] - 1s 256ms/step - loss: 0.7583 - accuracy: 0.6986 - val_loss: 1.0254 - val_accuracy: 0.5676\n",
      "Epoch 11/64\n",
      "5/5 [==============================] - 1s 279ms/step - loss: 0.7461 - accuracy: 0.6884 - val_loss: 0.9420 - val_accuracy: 0.5270\n",
      "Epoch 12/64\n",
      "5/5 [==============================] - 1s 260ms/step - loss: 0.6887 - accuracy: 0.7192 - val_loss: 0.8989 - val_accuracy: 0.5676\n",
      "Epoch 13/64\n",
      "5/5 [==============================] - 1s 267ms/step - loss: 0.6475 - accuracy: 0.7603 - val_loss: 0.8871 - val_accuracy: 0.6351\n",
      "Epoch 14/64\n",
      "5/5 [==============================] - 1s 271ms/step - loss: 0.6299 - accuracy: 0.7603 - val_loss: 0.8281 - val_accuracy: 0.6486\n",
      "Epoch 15/64\n",
      "5/5 [==============================] - 1s 272ms/step - loss: 0.5783 - accuracy: 0.7705 - val_loss: 0.7977 - val_accuracy: 0.6351\n",
      "Epoch 16/64\n",
      "5/5 [==============================] - 1s 255ms/step - loss: 0.5393 - accuracy: 0.8082 - val_loss: 0.7791 - val_accuracy: 0.6757\n",
      "Epoch 17/64\n",
      "5/5 [==============================] - 1s 254ms/step - loss: 0.5044 - accuracy: 0.8253 - val_loss: 0.7895 - val_accuracy: 0.6351\n",
      "Epoch 18/64\n",
      "5/5 [==============================] - 1s 256ms/step - loss: 0.4832 - accuracy: 0.8356 - val_loss: 0.7578 - val_accuracy: 0.6486\n",
      "Epoch 19/64\n",
      "5/5 [==============================] - 1s 262ms/step - loss: 0.4537 - accuracy: 0.8493 - val_loss: 0.7645 - val_accuracy: 0.6622\n",
      "Epoch 20/64\n",
      "5/5 [==============================] - 1s 255ms/step - loss: 0.4464 - accuracy: 0.8527 - val_loss: 0.7342 - val_accuracy: 0.6486\n",
      "Epoch 21/64\n",
      "5/5 [==============================] - 1s 257ms/step - loss: 0.3803 - accuracy: 0.8938 - val_loss: 0.7665 - val_accuracy: 0.6351\n",
      "Epoch 22/64\n",
      "5/5 [==============================] - 1s 255ms/step - loss: 0.3870 - accuracy: 0.8767 - val_loss: 0.7269 - val_accuracy: 0.7027\n",
      "Epoch 23/64\n",
      "5/5 [==============================] - 1s 254ms/step - loss: 0.3636 - accuracy: 0.8836 - val_loss: 0.7424 - val_accuracy: 0.5946\n",
      "Epoch 24/64\n",
      "5/5 [==============================] - 1s 265ms/step - loss: 0.3712 - accuracy: 0.8630 - val_loss: 0.7425 - val_accuracy: 0.6892\n",
      "Epoch 25/64\n",
      "5/5 [==============================] - 1s 255ms/step - loss: 0.3267 - accuracy: 0.9178 - val_loss: 0.7068 - val_accuracy: 0.6757\n",
      "Epoch 26/64\n",
      "5/5 [==============================] - 1s 255ms/step - loss: 0.3045 - accuracy: 0.8973 - val_loss: 0.6934 - val_accuracy: 0.6757\n",
      "Epoch 27/64\n",
      "5/5 [==============================] - 1s 255ms/step - loss: 0.3017 - accuracy: 0.9075 - val_loss: 0.7119 - val_accuracy: 0.6757\n",
      "Epoch 28/64\n",
      "5/5 [==============================] - 1s 255ms/step - loss: 0.2899 - accuracy: 0.9418 - val_loss: 0.6901 - val_accuracy: 0.6892\n",
      "Epoch 29/64\n",
      "5/5 [==============================] - 1s 272ms/step - loss: 0.2786 - accuracy: 0.9247 - val_loss: 0.7040 - val_accuracy: 0.7297\n",
      "Epoch 30/64\n",
      "5/5 [==============================] - 1s 286ms/step - loss: 0.2713 - accuracy: 0.9281 - val_loss: 0.7022 - val_accuracy: 0.6757\n",
      "Epoch 31/64\n",
      "5/5 [==============================] - 1s 258ms/step - loss: 0.2398 - accuracy: 0.9349 - val_loss: 0.6934 - val_accuracy: 0.7297\n"
     ]
    },
    {
     "data": {
      "text/plain": [
       "<keras.callbacks.History at 0x176fcccd0>"
      ]
     },
     "execution_count": 40,
     "metadata": {},
     "output_type": "execute_result"
    },
    {
     "ename": "",
     "evalue": "",
     "output_type": "error",
     "traceback": [
      "\u001b[1;31mnotebook controller is DISPOSED. \n",
      "\u001b[1;31mView Jupyter <a href='command:jupyter.viewOutput'>log</a> for further details."
     ]
    },
    {
     "ename": "",
     "evalue": "",
     "output_type": "error",
     "traceback": [
      "\u001b[1;31mnotebook controller is DISPOSED. \n",
      "\u001b[1;31mView Jupyter <a href='command:jupyter.viewOutput'>log</a> for further details."
     ]
    },
    {
     "ename": "",
     "evalue": "",
     "output_type": "error",
     "traceback": [
      "\u001b[1;31mnotebook controller is DISPOSED. \n",
      "\u001b[1;31mView Jupyter <a href='command:jupyter.viewOutput'>log</a> for further details."
     ]
    }
   ],
   "source": [
    "es = EarlyStopping(patience = 3,restore_best_weights= True)\n",
    "improved_model.fit(X_train , y_train ,callbacks = [es] ,validation_split = 0.2, epochs = 64, batch_size = 64)"
   ]
  },
  {
   "cell_type": "code",
   "execution_count": null,
   "metadata": {},
   "outputs": [
    {
     "name": "stdout",
     "output_type": "stream",
     "text": [
      "5/5 [==============================] - 0s 49ms/step - loss: 0.8050 - accuracy: 0.6266\n"
     ]
    },
    {
     "data": {
      "text/plain": [
       "[0.8050152063369751, 0.6265822649002075]"
      ]
     },
     "execution_count": 41,
     "metadata": {},
     "output_type": "execute_result"
    },
    {
     "ename": "",
     "evalue": "",
     "output_type": "error",
     "traceback": [
      "\u001b[1;31mnotebook controller is DISPOSED. \n",
      "\u001b[1;31mView Jupyter <a href='command:jupyter.viewOutput'>log</a> for further details."
     ]
    },
    {
     "ename": "",
     "evalue": "",
     "output_type": "error",
     "traceback": [
      "\u001b[1;31mnotebook controller is DISPOSED. \n",
      "\u001b[1;31mView Jupyter <a href='command:jupyter.viewOutput'>log</a> for further details."
     ]
    },
    {
     "ename": "",
     "evalue": "",
     "output_type": "error",
     "traceback": [
      "\u001b[1;31mnotebook controller is DISPOSED. \n",
      "\u001b[1;31mView Jupyter <a href='command:jupyter.viewOutput'>log</a> for further details."
     ]
    }
   ],
   "source": [
    "improved_model.evaluate(X_test,y_test)"
   ]
  },
  {
   "cell_type": "code",
   "execution_count": 150,
   "metadata": {},
   "outputs": [],
   "source": [
    "test_image  = plt.imread(\"test_images/test_5.png\")\n"
   ]
  },
  {
   "cell_type": "code",
   "execution_count": 151,
   "metadata": {},
   "outputs": [
    {
     "data": {
      "text/plain": [
       "<matplotlib.image.AxesImage at 0x1466713c0>"
      ]
     },
     "execution_count": 151,
     "metadata": {},
     "output_type": "execute_result"
    },
    {
     "data": {
      "image/png": "[encoded data removed]",
      "text/plain": [
       "<Figure size 640x480 with 1 Axes>"
      ]
     },
     "metadata": {},
     "output_type": "display_data"
    }
   ],
   "source": [
    "plt.imshow(test_image)"
   ]
  },
  {
   "cell_type": "code",
   "execution_count": 136,
   "metadata": {},
   "outputs": [
    {
     "data": {
      "text/plain": [
       "(972, 1892, 4)"
      ]
     },
     "execution_count": 136,
     "metadata": {},
     "output_type": "execute_result"
    }
   ],
   "source": [
    "test_image.shape"
   ]
  },
  {
   "cell_type": "code",
   "execution_count": 152,
   "metadata": {},
   "outputs": [],
   "source": [
    "test_image = preprocess_image_improved(test_image,300)\n"
   ]
  },
  {
   "cell_type": "code",
   "execution_count": 146,
   "metadata": {},
   "outputs": [
    {
     "ename": "AttributeError",
     "evalue": "'list' object has no attribute 'shape'",
     "output_type": "error",
     "traceback": [
      "\u001b[0;31m---------------------------------------------------------------------------\u001b[0m",
      "\u001b[0;31mAttributeError\u001b[0m                            Traceback (most recent call last)",
      "Cell \u001b[0;32mIn [146], line 1\u001b[0m\n\u001b[0;32m----> 1\u001b[0m test_image\u001b[39m.\u001b[39;49mshape\n",
      "\u001b[0;31mAttributeError\u001b[0m: 'list' object has no attribute 'shape'"
     ]
    }
   ],
   "source": [
    "test_image.shape"
   ]
  },
  {
   "cell_type": "code",
   "execution_count": 153,
   "metadata": {},
   "outputs": [],
   "source": [
    "test_image = np.array([(test_image)])"
   ]
  },
  {
   "cell_type": "code",
   "execution_count": 140,
   "metadata": {},
   "outputs": [
    {
     "data": {
      "text/plain": [
       "(1, 8, 300, 300)"
      ]
     },
     "execution_count": 140,
     "metadata": {},
     "output_type": "execute_result"
    }
   ],
   "source": [
    "test_image.shape"
   ]
  },
  {
   "cell_type": "code",
   "execution_count": 154,
   "metadata": {},
   "outputs": [],
   "source": [
    "test_image = test_image.reshape(1,300,300,8)"
   ]
  },
  {
   "cell_type": "code",
   "execution_count": 155,
   "metadata": {},
   "outputs": [
    {
     "name": "stdout",
     "output_type": "stream",
     "text": [
      "1/1 [==============================] - 0s 120ms/step\n"
     ]
    },
    {
     "data": {
      "text/plain": [
       "array([[0.03066211, 0.67019755, 0.2991403 ]], dtype=float32)"
      ]
     },
     "execution_count": 155,
     "metadata": {},
     "output_type": "execute_result"
    }
   ],
   "source": [
    "test_model.predict(test_image)"
   ]
  },
  {
   "cell_type": "code",
   "execution_count": 157,
   "metadata": {},
   "outputs": [
    {
     "data": {
      "text/plain": [
       "array([[1., 0., 0.],\n",
       "       [1., 0., 0.],\n",
       "       [1., 0., 0.],\n",
       "       ...,\n",
       "       [0., 0., 1.],\n",
       "       [0., 0., 1.],\n",
       "       [0., 0., 1.]], dtype=float32)"
      ]
     },
     "execution_count": 157,
     "metadata": {},
     "output_type": "execute_result"
    }
   ],
   "source": [
    "y_cat"
   ]
  },
  {
   "cell_type": "code",
   "execution_count": null,
   "metadata": {},
   "outputs": [
    {
     "name": "stdout",
     "output_type": "stream",
     "text": [
      "1/1 [==============================] - 0s 14ms/step\n"
     ]
    },
    {
     "data": {
      "text/plain": [
       "array([[0.01975967, 0.9450792 , 0.03516113]], dtype=float32)"
      ]
     },
     "execution_count": 72,
     "metadata": {},
     "output_type": "execute_result"
    },
    {
     "ename": "",
     "evalue": "",
     "output_type": "error",
     "traceback": [
      "\u001b[1;31mnotebook controller is DISPOSED. \n",
      "\u001b[1;31mView Jupyter <a href='command:jupyter.viewOutput'>log</a> for further details."
     ]
    },
    {
     "ename": "",
     "evalue": "",
     "output_type": "error",
     "traceback": [
      "\u001b[1;31mnotebook controller is DISPOSED. \n",
      "\u001b[1;31mView Jupyter <a href='command:jupyter.viewOutput'>log</a> for further details."
     ]
    },
    {
     "ename": "",
     "evalue": "",
     "output_type": "error",
     "traceback": [
      "\u001b[1;31mnotebook controller is DISPOSED. \n",
      "\u001b[1;31mView Jupyter <a href='command:jupyter.viewOutput'>log</a> for further details."
     ]
    }
   ],
   "source": [
    "improved_model.predict(test_image)"
   ]
  }
 ],
 "metadata": {
  "kernelspec": {
   "display_name": "Python 3.10.6 64-bit ('wavewatcher')",
   "language": "python",
   "name": "python3"
  },
  "language_info": {
   "codemirror_mode": {
    "name": "ipython",
    "version": 3
   },
   "file_extension": ".py",
   "mimetype": "text/x-python",
   "name": "python",
   "nbconvert_exporter": "python",
   "pygments_lexer": "ipython3",
   "version": "3.10.6"
  },
  "orig_nbformat": 4,
  "vscode": {
   "interpreter": {
    "hash": "939b3d73e37548e6d99cf4126d755001bf5241886bd4e8de23291a3246d9befb"
   }
  }
 },
 "nbformat": 4,
 "nbformat_minor": 2
}
